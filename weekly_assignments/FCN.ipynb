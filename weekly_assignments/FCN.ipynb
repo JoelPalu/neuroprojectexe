{
 "cells": [
  {
   "metadata": {},
   "cell_type": "markdown",
   "source": "# CIFAR-10 Luokitteluprojekti (FCN)\n",
   "id": "7b50ef77d4b43dbe"
  },
  {
   "metadata": {},
   "cell_type": "markdown",
   "source": [
    "### Business Understanding\n",
    "\n",
    "The objective of this part of the assignment is to build a Fully Connected Network (FCN) model for image classification on the CIFAR-10 dataset.\n",
    "\n",
    "The aim is to achieve reasonable classification accuracy using FCN architecture while analyzing its performance compared to CNN, and to evaluate the performance of the FCN model based on learning curve, number of parameters and training time, as well as visualize the results."
   ],
   "id": "4b04a21dfe348cbf"
  },
  {
   "metadata": {},
   "cell_type": "markdown",
   "source": [
    "### Data Understanding\n",
    "\n",
    "The dataset used in this assignment is **The CIFAR-10 dataset**, that consists of 60,000 32x32 color images in 10 classes, with 6,000 images per class. The dataset is divided into 50,000 training images and 10,000 testing images."
   ],
   "id": "8906e4657b053bc2"
  },
  {
   "metadata": {},
   "cell_type": "markdown",
   "source": [
    "### Data preparation\n",
    "\n",
    "- Fetching data\n",
    "- Reshaping data\n",
    "- Split dataset to training, test and validation"
   ],
   "id": "c0b2464d951ad8fc"
  },
  {
   "cell_type": "code",
   "id": "initial_id",
   "metadata": {
    "collapsed": true,
    "ExecuteTime": {
     "end_time": "2025-03-27T09:12:12.816297Z",
     "start_time": "2025-03-27T09:11:34.548325Z"
    }
   },
   "source": [
    "from keras.src.utils import to_categorical\n",
    "import keras\n",
    "from sklearn.model_selection import train_test_split\n",
    "from matplotlib import pyplot as plt\n",
    "\n",
    "(X_train, y_train), (X_test, y_test) = keras.datasets.cifar10.load_data()\n",
    "\n",
    "X_train = X_train.reshape(-1, 32 * 32 * 3)\n",
    "X_test = X_test.reshape(-1, 32 * 32 * 3)\n",
    "\n",
    "X_train = X_train.astype('float32') / 255\n",
    "X_test = X_test.astype('float32') / 255\n",
    "\n",
    "# Add stronger normalization here\n",
    "import numpy as np\n",
    "mean = np.mean(X_train, axis=0)\n",
    "std = np.std(X_train, axis=0) + 1e-7\n",
    "X_train = (X_train - mean) / std\n",
    "X_test = (X_test - mean) / std\n",
    "\n",
    "# Data for generator use\n",
    "X_train_split, X_val, y_train_split, y_val = train_test_split(\n",
    "    X_train, y_train, test_size=0.2, random_state=42\n",
    ")\n",
    "\n",
    "# Then convert labels to categorical format\n",
    "y_train_split = to_categorical(y_train_split, 10)\n",
    "y_val = to_categorical(y_val, 10)\n",
    "y_test = to_categorical(y_test, 10)\n",
    "\n",
    "#y_train = to_categorical(y_train, 10)\n",
    "#y_test = to_categorical(y_test, 10)\n",
    "\n",
    "print(f\"Training data shape: {X_train.shape}\")\n",
    "print(f\"Test data shape: {X_test.shape}\")"
   ],
   "outputs": [
    {
     "name": "stderr",
     "output_type": "stream",
     "text": [
      "2025-03-27 11:11:35.569431: E external/local_xla/xla/stream_executor/cuda/cuda_fft.cc:467] Unable to register cuFFT factory: Attempting to register factory for plugin cuFFT when one has already been registered\n",
      "WARNING: All log messages before absl::InitializeLog() is called are written to STDERR\n",
      "E0000 00:00:1743066695.683377  211196 cuda_dnn.cc:8579] Unable to register cuDNN factory: Attempting to register factory for plugin cuDNN when one has already been registered\n",
      "E0000 00:00:1743066695.714127  211196 cuda_blas.cc:1407] Unable to register cuBLAS factory: Attempting to register factory for plugin cuBLAS when one has already been registered\n",
      "W0000 00:00:1743066695.860540  211196 computation_placer.cc:177] computation placer already registered. Please check linkage and avoid linking the same target more than once.\n",
      "W0000 00:00:1743066695.860571  211196 computation_placer.cc:177] computation placer already registered. Please check linkage and avoid linking the same target more than once.\n",
      "W0000 00:00:1743066695.860572  211196 computation_placer.cc:177] computation placer already registered. Please check linkage and avoid linking the same target more than once.\n",
      "W0000 00:00:1743066695.860574  211196 computation_placer.cc:177] computation placer already registered. Please check linkage and avoid linking the same target more than once.\n",
      "2025-03-27 11:11:35.888735: I tensorflow/core/platform/cpu_feature_guard.cc:210] This TensorFlow binary is optimized to use available CPU instructions in performance-critical operations.\n",
      "To enable the following instructions: AVX2 FMA, in other operations, rebuild TensorFlow with the appropriate compiler flags.\n"
     ]
    },
    {
     "name": "stdout",
     "output_type": "stream",
     "text": [
      "Training data shape: (50000, 3072)\n",
      "Test data shape: (10000, 3072)\n"
     ]
    }
   ],
   "execution_count": 1
  },
  {
   "metadata": {},
   "cell_type": "markdown",
   "source": [
    "### Modeling\n",
    "\n",
    "We build FCN model here, simple model which reached to around 50% accuracy is commented off. The heavier model got the accuracy of 62%."
   ],
   "id": "741b5d498c84b041"
  },
  {
   "metadata": {
    "ExecuteTime": {
     "end_time": "2025-03-27T09:12:23.149437Z",
     "start_time": "2025-03-27T09:12:13.674721Z"
    }
   },
   "cell_type": "code",
   "source": [
    "from keras import backend as K\n",
    "from keras import layers\n",
    "from keras import regularizers\n",
    "\n",
    "print(K.backend())\n",
    "\n",
    "# Simple model ~50% accuracy\n",
    "'''\n",
    "inputs = keras.Input(shape=(3072,))\n",
    "x = layers.Dense(256, activation=\"relu\")(inputs)\n",
    "x = layers.Dense(128, activation=\"relu\")(x)\n",
    "outputs = layers.Dense(10, activation=\"softmax\")(x)\n",
    "model = keras.Model(inputs=inputs, outputs=outputs, name=\"cifar10_model\")\n",
    "'''\n",
    "\n",
    "# Wider and deeper FCN\n",
    "inputs = keras.Input(shape=(3072,))\n",
    "x = layers.Dense(1024, activation=\"relu\", kernel_regularizer=regularizers.l2(0.0005))(inputs)\n",
    "x = layers.BatchNormalization()(x)\n",
    "x = layers.Dropout(0.3)(x)\n",
    "\n",
    "x = layers.Dense(512, activation=\"relu\", kernel_regularizer=regularizers.l2(0.0005))(x)\n",
    "x = layers.BatchNormalization()(x)\n",
    "x = layers.Dropout(0.4)(x)\n",
    "\n",
    "x = layers.Dense(256, activation=\"relu\", kernel_regularizer=regularizers.l2(0.0005))(x)\n",
    "x = layers.BatchNormalization()(x)\n",
    "x = layers.Dropout(0.4)(x)\n",
    "\n",
    "x = layers.Dense(128, activation=\"relu\", kernel_regularizer=regularizers.l2(0.0005))(x)\n",
    "x = layers.BatchNormalization()(x)\n",
    "x = layers.Dropout(0.3)(x)\n",
    "\n",
    "outputs = layers.Dense(10, activation=\"softmax\")(x)\n",
    "improved_model = keras.Model(inputs=inputs, outputs=outputs)"
   ],
   "id": "3aeb3b6723837b32",
   "outputs": [
    {
     "name": "stdout",
     "output_type": "stream",
     "text": [
      "tensorflow\n"
     ]
    },
    {
     "name": "stderr",
     "output_type": "stream",
     "text": [
      "I0000 00:00:1743066735.197494  211196 gpu_device.cc:2019] Created device /job:localhost/replica:0/task:0/device:GPU:0 with 1753 MB memory:  -> device: 0, name: NVIDIA GeForce RTX 3050 Ti Laptop GPU, pci bus id: 0000:01:00.0, compute capability: 8.6\n"
     ]
    }
   ],
   "execution_count": 2
  },
  {
   "metadata": {
    "ExecuteTime": {
     "end_time": "2025-03-27T09:12:40.130709Z",
     "start_time": "2025-03-27T09:12:40.112188Z"
    }
   },
   "cell_type": "code",
   "source": "improved_model.summary()",
   "id": "819a29db8e0f6c72",
   "outputs": [
    {
     "data": {
      "text/plain": [
       "\u001B[1mModel: \"functional\"\u001B[0m\n"
      ],
      "text/html": [
       "<pre style=\"white-space:pre;overflow-x:auto;line-height:normal;font-family:Menlo,'DejaVu Sans Mono',consolas,'Courier New',monospace\"><span style=\"font-weight: bold\">Model: \"functional\"</span>\n",
       "</pre>\n"
      ]
     },
     "metadata": {},
     "output_type": "display_data"
    },
    {
     "data": {
      "text/plain": [
       "┏━━━━━━━━━━━━━━━━━━━━━━━━━━━━━━━━━┳━━━━━━━━━━━━━━━━━━━━━━━━┳━━━━━━━━━━━━━━━┓\n",
       "┃\u001B[1m \u001B[0m\u001B[1mLayer (type)                   \u001B[0m\u001B[1m \u001B[0m┃\u001B[1m \u001B[0m\u001B[1mOutput Shape          \u001B[0m\u001B[1m \u001B[0m┃\u001B[1m \u001B[0m\u001B[1m      Param #\u001B[0m\u001B[1m \u001B[0m┃\n",
       "┡━━━━━━━━━━━━━━━━━━━━━━━━━━━━━━━━━╇━━━━━━━━━━━━━━━━━━━━━━━━╇━━━━━━━━━━━━━━━┩\n",
       "│ input_layer (\u001B[38;5;33mInputLayer\u001B[0m)        │ (\u001B[38;5;45mNone\u001B[0m, \u001B[38;5;34m3072\u001B[0m)           │             \u001B[38;5;34m0\u001B[0m │\n",
       "├─────────────────────────────────┼────────────────────────┼───────────────┤\n",
       "│ dense (\u001B[38;5;33mDense\u001B[0m)                   │ (\u001B[38;5;45mNone\u001B[0m, \u001B[38;5;34m1024\u001B[0m)           │     \u001B[38;5;34m3,146,752\u001B[0m │\n",
       "├─────────────────────────────────┼────────────────────────┼───────────────┤\n",
       "│ batch_normalization             │ (\u001B[38;5;45mNone\u001B[0m, \u001B[38;5;34m1024\u001B[0m)           │         \u001B[38;5;34m4,096\u001B[0m │\n",
       "│ (\u001B[38;5;33mBatchNormalization\u001B[0m)            │                        │               │\n",
       "├─────────────────────────────────┼────────────────────────┼───────────────┤\n",
       "│ dropout (\u001B[38;5;33mDropout\u001B[0m)               │ (\u001B[38;5;45mNone\u001B[0m, \u001B[38;5;34m1024\u001B[0m)           │             \u001B[38;5;34m0\u001B[0m │\n",
       "├─────────────────────────────────┼────────────────────────┼───────────────┤\n",
       "│ dense_1 (\u001B[38;5;33mDense\u001B[0m)                 │ (\u001B[38;5;45mNone\u001B[0m, \u001B[38;5;34m512\u001B[0m)            │       \u001B[38;5;34m524,800\u001B[0m │\n",
       "├─────────────────────────────────┼────────────────────────┼───────────────┤\n",
       "│ batch_normalization_1           │ (\u001B[38;5;45mNone\u001B[0m, \u001B[38;5;34m512\u001B[0m)            │         \u001B[38;5;34m2,048\u001B[0m │\n",
       "│ (\u001B[38;5;33mBatchNormalization\u001B[0m)            │                        │               │\n",
       "├─────────────────────────────────┼────────────────────────┼───────────────┤\n",
       "│ dropout_1 (\u001B[38;5;33mDropout\u001B[0m)             │ (\u001B[38;5;45mNone\u001B[0m, \u001B[38;5;34m512\u001B[0m)            │             \u001B[38;5;34m0\u001B[0m │\n",
       "├─────────────────────────────────┼────────────────────────┼───────────────┤\n",
       "│ dense_2 (\u001B[38;5;33mDense\u001B[0m)                 │ (\u001B[38;5;45mNone\u001B[0m, \u001B[38;5;34m256\u001B[0m)            │       \u001B[38;5;34m131,328\u001B[0m │\n",
       "├─────────────────────────────────┼────────────────────────┼───────────────┤\n",
       "│ batch_normalization_2           │ (\u001B[38;5;45mNone\u001B[0m, \u001B[38;5;34m256\u001B[0m)            │         \u001B[38;5;34m1,024\u001B[0m │\n",
       "│ (\u001B[38;5;33mBatchNormalization\u001B[0m)            │                        │               │\n",
       "├─────────────────────────────────┼────────────────────────┼───────────────┤\n",
       "│ dropout_2 (\u001B[38;5;33mDropout\u001B[0m)             │ (\u001B[38;5;45mNone\u001B[0m, \u001B[38;5;34m256\u001B[0m)            │             \u001B[38;5;34m0\u001B[0m │\n",
       "├─────────────────────────────────┼────────────────────────┼───────────────┤\n",
       "│ dense_3 (\u001B[38;5;33mDense\u001B[0m)                 │ (\u001B[38;5;45mNone\u001B[0m, \u001B[38;5;34m128\u001B[0m)            │        \u001B[38;5;34m32,896\u001B[0m │\n",
       "├─────────────────────────────────┼────────────────────────┼───────────────┤\n",
       "│ batch_normalization_3           │ (\u001B[38;5;45mNone\u001B[0m, \u001B[38;5;34m128\u001B[0m)            │           \u001B[38;5;34m512\u001B[0m │\n",
       "│ (\u001B[38;5;33mBatchNormalization\u001B[0m)            │                        │               │\n",
       "├─────────────────────────────────┼────────────────────────┼───────────────┤\n",
       "│ dropout_3 (\u001B[38;5;33mDropout\u001B[0m)             │ (\u001B[38;5;45mNone\u001B[0m, \u001B[38;5;34m128\u001B[0m)            │             \u001B[38;5;34m0\u001B[0m │\n",
       "├─────────────────────────────────┼────────────────────────┼───────────────┤\n",
       "│ dense_4 (\u001B[38;5;33mDense\u001B[0m)                 │ (\u001B[38;5;45mNone\u001B[0m, \u001B[38;5;34m10\u001B[0m)             │         \u001B[38;5;34m1,290\u001B[0m │\n",
       "└─────────────────────────────────┴────────────────────────┴───────────────┘\n"
      ],
      "text/html": [
       "<pre style=\"white-space:pre;overflow-x:auto;line-height:normal;font-family:Menlo,'DejaVu Sans Mono',consolas,'Courier New',monospace\">┏━━━━━━━━━━━━━━━━━━━━━━━━━━━━━━━━━┳━━━━━━━━━━━━━━━━━━━━━━━━┳━━━━━━━━━━━━━━━┓\n",
       "┃<span style=\"font-weight: bold\"> Layer (type)                    </span>┃<span style=\"font-weight: bold\"> Output Shape           </span>┃<span style=\"font-weight: bold\">       Param # </span>┃\n",
       "┡━━━━━━━━━━━━━━━━━━━━━━━━━━━━━━━━━╇━━━━━━━━━━━━━━━━━━━━━━━━╇━━━━━━━━━━━━━━━┩\n",
       "│ input_layer (<span style=\"color: #0087ff; text-decoration-color: #0087ff\">InputLayer</span>)        │ (<span style=\"color: #00d7ff; text-decoration-color: #00d7ff\">None</span>, <span style=\"color: #00af00; text-decoration-color: #00af00\">3072</span>)           │             <span style=\"color: #00af00; text-decoration-color: #00af00\">0</span> │\n",
       "├─────────────────────────────────┼────────────────────────┼───────────────┤\n",
       "│ dense (<span style=\"color: #0087ff; text-decoration-color: #0087ff\">Dense</span>)                   │ (<span style=\"color: #00d7ff; text-decoration-color: #00d7ff\">None</span>, <span style=\"color: #00af00; text-decoration-color: #00af00\">1024</span>)           │     <span style=\"color: #00af00; text-decoration-color: #00af00\">3,146,752</span> │\n",
       "├─────────────────────────────────┼────────────────────────┼───────────────┤\n",
       "│ batch_normalization             │ (<span style=\"color: #00d7ff; text-decoration-color: #00d7ff\">None</span>, <span style=\"color: #00af00; text-decoration-color: #00af00\">1024</span>)           │         <span style=\"color: #00af00; text-decoration-color: #00af00\">4,096</span> │\n",
       "│ (<span style=\"color: #0087ff; text-decoration-color: #0087ff\">BatchNormalization</span>)            │                        │               │\n",
       "├─────────────────────────────────┼────────────────────────┼───────────────┤\n",
       "│ dropout (<span style=\"color: #0087ff; text-decoration-color: #0087ff\">Dropout</span>)               │ (<span style=\"color: #00d7ff; text-decoration-color: #00d7ff\">None</span>, <span style=\"color: #00af00; text-decoration-color: #00af00\">1024</span>)           │             <span style=\"color: #00af00; text-decoration-color: #00af00\">0</span> │\n",
       "├─────────────────────────────────┼────────────────────────┼───────────────┤\n",
       "│ dense_1 (<span style=\"color: #0087ff; text-decoration-color: #0087ff\">Dense</span>)                 │ (<span style=\"color: #00d7ff; text-decoration-color: #00d7ff\">None</span>, <span style=\"color: #00af00; text-decoration-color: #00af00\">512</span>)            │       <span style=\"color: #00af00; text-decoration-color: #00af00\">524,800</span> │\n",
       "├─────────────────────────────────┼────────────────────────┼───────────────┤\n",
       "│ batch_normalization_1           │ (<span style=\"color: #00d7ff; text-decoration-color: #00d7ff\">None</span>, <span style=\"color: #00af00; text-decoration-color: #00af00\">512</span>)            │         <span style=\"color: #00af00; text-decoration-color: #00af00\">2,048</span> │\n",
       "│ (<span style=\"color: #0087ff; text-decoration-color: #0087ff\">BatchNormalization</span>)            │                        │               │\n",
       "├─────────────────────────────────┼────────────────────────┼───────────────┤\n",
       "│ dropout_1 (<span style=\"color: #0087ff; text-decoration-color: #0087ff\">Dropout</span>)             │ (<span style=\"color: #00d7ff; text-decoration-color: #00d7ff\">None</span>, <span style=\"color: #00af00; text-decoration-color: #00af00\">512</span>)            │             <span style=\"color: #00af00; text-decoration-color: #00af00\">0</span> │\n",
       "├─────────────────────────────────┼────────────────────────┼───────────────┤\n",
       "│ dense_2 (<span style=\"color: #0087ff; text-decoration-color: #0087ff\">Dense</span>)                 │ (<span style=\"color: #00d7ff; text-decoration-color: #00d7ff\">None</span>, <span style=\"color: #00af00; text-decoration-color: #00af00\">256</span>)            │       <span style=\"color: #00af00; text-decoration-color: #00af00\">131,328</span> │\n",
       "├─────────────────────────────────┼────────────────────────┼───────────────┤\n",
       "│ batch_normalization_2           │ (<span style=\"color: #00d7ff; text-decoration-color: #00d7ff\">None</span>, <span style=\"color: #00af00; text-decoration-color: #00af00\">256</span>)            │         <span style=\"color: #00af00; text-decoration-color: #00af00\">1,024</span> │\n",
       "│ (<span style=\"color: #0087ff; text-decoration-color: #0087ff\">BatchNormalization</span>)            │                        │               │\n",
       "├─────────────────────────────────┼────────────────────────┼───────────────┤\n",
       "│ dropout_2 (<span style=\"color: #0087ff; text-decoration-color: #0087ff\">Dropout</span>)             │ (<span style=\"color: #00d7ff; text-decoration-color: #00d7ff\">None</span>, <span style=\"color: #00af00; text-decoration-color: #00af00\">256</span>)            │             <span style=\"color: #00af00; text-decoration-color: #00af00\">0</span> │\n",
       "├─────────────────────────────────┼────────────────────────┼───────────────┤\n",
       "│ dense_3 (<span style=\"color: #0087ff; text-decoration-color: #0087ff\">Dense</span>)                 │ (<span style=\"color: #00d7ff; text-decoration-color: #00d7ff\">None</span>, <span style=\"color: #00af00; text-decoration-color: #00af00\">128</span>)            │        <span style=\"color: #00af00; text-decoration-color: #00af00\">32,896</span> │\n",
       "├─────────────────────────────────┼────────────────────────┼───────────────┤\n",
       "│ batch_normalization_3           │ (<span style=\"color: #00d7ff; text-decoration-color: #00d7ff\">None</span>, <span style=\"color: #00af00; text-decoration-color: #00af00\">128</span>)            │           <span style=\"color: #00af00; text-decoration-color: #00af00\">512</span> │\n",
       "│ (<span style=\"color: #0087ff; text-decoration-color: #0087ff\">BatchNormalization</span>)            │                        │               │\n",
       "├─────────────────────────────────┼────────────────────────┼───────────────┤\n",
       "│ dropout_3 (<span style=\"color: #0087ff; text-decoration-color: #0087ff\">Dropout</span>)             │ (<span style=\"color: #00d7ff; text-decoration-color: #00d7ff\">None</span>, <span style=\"color: #00af00; text-decoration-color: #00af00\">128</span>)            │             <span style=\"color: #00af00; text-decoration-color: #00af00\">0</span> │\n",
       "├─────────────────────────────────┼────────────────────────┼───────────────┤\n",
       "│ dense_4 (<span style=\"color: #0087ff; text-decoration-color: #0087ff\">Dense</span>)                 │ (<span style=\"color: #00d7ff; text-decoration-color: #00d7ff\">None</span>, <span style=\"color: #00af00; text-decoration-color: #00af00\">10</span>)             │         <span style=\"color: #00af00; text-decoration-color: #00af00\">1,290</span> │\n",
       "└─────────────────────────────────┴────────────────────────┴───────────────┘\n",
       "</pre>\n"
      ]
     },
     "metadata": {},
     "output_type": "display_data"
    },
    {
     "data": {
      "text/plain": [
       "\u001B[1m Total params: \u001B[0m\u001B[38;5;34m3,844,746\u001B[0m (14.67 MB)\n"
      ],
      "text/html": [
       "<pre style=\"white-space:pre;overflow-x:auto;line-height:normal;font-family:Menlo,'DejaVu Sans Mono',consolas,'Courier New',monospace\"><span style=\"font-weight: bold\"> Total params: </span><span style=\"color: #00af00; text-decoration-color: #00af00\">3,844,746</span> (14.67 MB)\n",
       "</pre>\n"
      ]
     },
     "metadata": {},
     "output_type": "display_data"
    },
    {
     "data": {
      "text/plain": [
       "\u001B[1m Trainable params: \u001B[0m\u001B[38;5;34m3,840,906\u001B[0m (14.65 MB)\n"
      ],
      "text/html": [
       "<pre style=\"white-space:pre;overflow-x:auto;line-height:normal;font-family:Menlo,'DejaVu Sans Mono',consolas,'Courier New',monospace\"><span style=\"font-weight: bold\"> Trainable params: </span><span style=\"color: #00af00; text-decoration-color: #00af00\">3,840,906</span> (14.65 MB)\n",
       "</pre>\n"
      ]
     },
     "metadata": {},
     "output_type": "display_data"
    },
    {
     "data": {
      "text/plain": [
       "\u001B[1m Non-trainable params: \u001B[0m\u001B[38;5;34m3,840\u001B[0m (15.00 KB)\n"
      ],
      "text/html": [
       "<pre style=\"white-space:pre;overflow-x:auto;line-height:normal;font-family:Menlo,'DejaVu Sans Mono',consolas,'Courier New',monospace\"><span style=\"font-weight: bold\"> Non-trainable params: </span><span style=\"color: #00af00; text-decoration-color: #00af00\">3,840</span> (15.00 KB)\n",
       "</pre>\n"
      ]
     },
     "metadata": {},
     "output_type": "display_data"
    }
   ],
   "execution_count": 3
  },
  {
   "metadata": {
    "ExecuteTime": {
     "end_time": "2025-03-27T09:12:40.197123Z",
     "start_time": "2025-03-27T09:12:40.173007Z"
    }
   },
   "cell_type": "code",
   "source": [
    "from keras_preprocessing.image import ImageDataGenerator\n",
    "\n",
    "# Create data generator\n",
    "datagen = ImageDataGenerator(\n",
    "    rotation_range=15,\n",
    "    width_shift_range=0.1,\n",
    "    height_shift_range=0.1,\n",
    "    horizontal_flip=True\n",
    ")\n",
    "\n",
    "# Reshape for augmentation, then flatten for model\n",
    "# This creates random variations of your training images by\n",
    "# This is mostly for CNN model, but it might help FCN model to perform better\n",
    "def generate_augmented_batches(X, y, batch_size=128):\n",
    "    X_reshaped = X.reshape(-1, 32, 32, 3)\n",
    "    gen = datagen.flow(X_reshaped, y, batch_size=batch_size)\n",
    "    while True:\n",
    "        X_batch, y_batch = gen.next()\n",
    "        yield X_batch.reshape(-1, 3072), y_batch"
   ],
   "id": "4b3bc5f23326bd4",
   "outputs": [],
   "execution_count": 4
  },
  {
   "metadata": {
    "ExecuteTime": {
     "end_time": "2025-03-27T09:37:30.990500Z",
     "start_time": "2025-03-27T09:12:40.225057Z"
    }
   },
   "cell_type": "code",
   "source": [
    "# Learning rate schedule\n",
    "lr_scheduler = keras.callbacks.ReduceLROnPlateau(\n",
    "    monitor='val_loss',\n",
    "    factor=0.5,\n",
    "    patience=3,\n",
    "    min_lr=1e-6\n",
    ")\n",
    "\n",
    "# Different optimizer configuration\n",
    "improved_model.compile(\n",
    "    loss=keras.losses.CategoricalCrossentropy(),\n",
    "    optimizer=keras.optimizers.SGD(learning_rate=0.01, momentum=0.9, nesterov=True),\n",
    "    metrics=[\"accuracy\"],\n",
    ")\n",
    "\n",
    "# Early stop callback function\n",
    "early_stop = keras.callbacks.EarlyStopping(\n",
    "    monitor='val_loss',\n",
    "    patience=10,\n",
    "    min_delta=0.0001,\n",
    "    restore_best_weights=True\n",
    ")\n",
    "\n",
    "# Reshape and flatten data\n",
    "train_generator = generate_augmented_batches(X_train_split, y_train_split)\n",
    "\n",
    "# Add the callbacks\n",
    "history = improved_model.fit(\n",
    "    train_generator,\n",
    "    steps_per_epoch=len(X_train_split) // 128,\n",
    "    epochs=100,\n",
    "    validation_data=(X_val, y_val),\n",
    "    callbacks=[early_stop, lr_scheduler]\n",
    ")\n"
   ],
   "id": "33b83f342a93b641",
   "outputs": [
    {
     "name": "stdout",
     "output_type": "stream",
     "text": [
      "Epoch 1/100\n"
     ]
    },
    {
     "name": "stderr",
     "output_type": "stream",
     "text": [
      "WARNING: All log messages before absl::InitializeLog() is called are written to STDERR\n",
      "I0000 00:00:1743066762.327733  211427 service.cc:152] XLA service 0x7f6f4800ea90 initialized for platform CUDA (this does not guarantee that XLA will be used). Devices:\n",
      "I0000 00:00:1743066762.327826  211427 service.cc:160]   StreamExecutor device (0): NVIDIA GeForce RTX 3050 Ti Laptop GPU, Compute Capability 8.6\n",
      "2025-03-27 11:12:42.792360: I tensorflow/compiler/mlir/tensorflow/utils/dump_mlir_util.cc:269] disabling MLIR crash reproducer, set env var `MLIR_CRASH_REPRODUCER_DIRECTORY` to enable.\n",
      "I0000 00:00:1743066763.401647  211427 cuda_dnn.cc:529] Loaded cuDNN version 90300\n"
     ]
    },
    {
     "name": "stdout",
     "output_type": "stream",
     "text": [
      "\u001B[1m  5/312\u001B[0m \u001B[37m━━━━━━━━━━━━━━━━━━━━\u001B[0m \u001B[1m9s\u001B[0m 29ms/step - accuracy: 0.1142 - loss: 4.5892"
     ]
    },
    {
     "name": "stderr",
     "output_type": "stream",
     "text": [
      "I0000 00:00:1743066767.923129  211427 device_compiler.h:188] Compiled cluster using XLA!  This line is logged at most once for the lifetime of the process.\n"
     ]
    },
    {
     "name": "stdout",
     "output_type": "stream",
     "text": [
      "\u001B[1m312/312\u001B[0m \u001B[32m━━━━━━━━━━━━━━━━━━━━\u001B[0m\u001B[37m\u001B[0m \u001B[1m0s\u001B[0m 31ms/step - accuracy: 0.2290 - loss: 3.6792"
     ]
    },
    {
     "name": "stderr",
     "output_type": "stream",
     "text": [
      "2025-03-27 11:12:57.892259: W external/local_xla/xla/tsl/framework/cpu_allocator_impl.cc:83] Allocation of 122880000 exceeds 10% of free system memory.\n",
      "2025-03-27 11:12:58.277811: W external/local_xla/xla/tsl/framework/cpu_allocator_impl.cc:83] Allocation of 122880000 exceeds 10% of free system memory.\n"
     ]
    },
    {
     "name": "stdout",
     "output_type": "stream",
     "text": [
      "\u001B[1m312/312\u001B[0m \u001B[32m━━━━━━━━━━━━━━━━━━━━\u001B[0m\u001B[37m\u001B[0m \u001B[1m20s\u001B[0m 41ms/step - accuracy: 0.2292 - loss: 3.6784 - val_accuracy: 0.3784 - val_loss: 3.0125 - learning_rate: 0.0100\n",
      "Epoch 2/100\n",
      "\u001B[1m312/312\u001B[0m \u001B[32m━━━━━━━━━━━━━━━━━━━━\u001B[0m\u001B[37m\u001B[0m \u001B[1m14s\u001B[0m 35ms/step - accuracy: 0.3363 - loss: 3.1114 - val_accuracy: 0.4190 - val_loss: 2.8410 - learning_rate: 0.0100\n",
      "Epoch 3/100\n",
      "\u001B[1m312/312\u001B[0m \u001B[32m━━━━━━━━━━━━━━━━━━━━\u001B[0m\u001B[37m\u001B[0m \u001B[1m10s\u001B[0m 33ms/step - accuracy: 0.3683 - loss: 2.9658 - val_accuracy: 0.4429 - val_loss: 2.7105 - learning_rate: 0.0100\n",
      "Epoch 4/100\n",
      "\u001B[1m312/312\u001B[0m \u001B[32m━━━━━━━━━━━━━━━━━━━━\u001B[0m\u001B[37m\u001B[0m \u001B[1m10s\u001B[0m 32ms/step - accuracy: 0.3895 - loss: 2.8395 - val_accuracy: 0.4577 - val_loss: 2.6128 - learning_rate: 0.0100\n",
      "Epoch 5/100\n",
      "\u001B[1m312/312\u001B[0m \u001B[32m━━━━━━━━━━━━━━━━━━━━\u001B[0m\u001B[37m\u001B[0m \u001B[1m11s\u001B[0m 35ms/step - accuracy: 0.3994 - loss: 2.7450 - val_accuracy: 0.4689 - val_loss: 2.5219 - learning_rate: 0.0100\n",
      "Epoch 6/100\n",
      "\u001B[1m312/312\u001B[0m \u001B[32m━━━━━━━━━━━━━━━━━━━━\u001B[0m\u001B[37m\u001B[0m \u001B[1m11s\u001B[0m 37ms/step - accuracy: 0.4158 - loss: 2.6592 - val_accuracy: 0.4786 - val_loss: 2.4261 - learning_rate: 0.0100\n",
      "Epoch 7/100\n",
      "\u001B[1m312/312\u001B[0m \u001B[32m━━━━━━━━━━━━━━━━━━━━\u001B[0m\u001B[37m\u001B[0m \u001B[1m12s\u001B[0m 40ms/step - accuracy: 0.4222 - loss: 2.5723 - val_accuracy: 0.4901 - val_loss: 2.3589 - learning_rate: 0.0100\n",
      "Epoch 8/100\n",
      "\u001B[1m312/312\u001B[0m \u001B[32m━━━━━━━━━━━━━━━━━━━━\u001B[0m\u001B[37m\u001B[0m \u001B[1m11s\u001B[0m 36ms/step - accuracy: 0.4284 - loss: 2.5062 - val_accuracy: 0.4967 - val_loss: 2.2954 - learning_rate: 0.0100\n",
      "Epoch 9/100\n",
      "\u001B[1m312/312\u001B[0m \u001B[32m━━━━━━━━━━━━━━━━━━━━\u001B[0m\u001B[37m\u001B[0m \u001B[1m13s\u001B[0m 40ms/step - accuracy: 0.4378 - loss: 2.4371 - val_accuracy: 0.5032 - val_loss: 2.2218 - learning_rate: 0.0100\n",
      "Epoch 10/100\n",
      "\u001B[1m312/312\u001B[0m \u001B[32m━━━━━━━━━━━━━━━━━━━━\u001B[0m\u001B[37m\u001B[0m \u001B[1m12s\u001B[0m 39ms/step - accuracy: 0.4441 - loss: 2.3670 - val_accuracy: 0.5070 - val_loss: 2.1650 - learning_rate: 0.0100\n",
      "Epoch 11/100\n",
      "\u001B[1m312/312\u001B[0m \u001B[32m━━━━━━━━━━━━━━━━━━━━\u001B[0m\u001B[37m\u001B[0m \u001B[1m11s\u001B[0m 36ms/step - accuracy: 0.4402 - loss: 2.3362 - val_accuracy: 0.5187 - val_loss: 2.0976 - learning_rate: 0.0100\n",
      "Epoch 12/100\n",
      "\u001B[1m312/312\u001B[0m \u001B[32m━━━━━━━━━━━━━━━━━━━━\u001B[0m\u001B[37m\u001B[0m \u001B[1m12s\u001B[0m 39ms/step - accuracy: 0.4554 - loss: 2.2601 - val_accuracy: 0.5200 - val_loss: 2.0575 - learning_rate: 0.0100\n",
      "Epoch 13/100\n",
      "\u001B[1m312/312\u001B[0m \u001B[32m━━━━━━━━━━━━━━━━━━━━\u001B[0m\u001B[37m\u001B[0m \u001B[1m12s\u001B[0m 37ms/step - accuracy: 0.4522 - loss: 2.2225 - val_accuracy: 0.5223 - val_loss: 2.0088 - learning_rate: 0.0100\n",
      "Epoch 14/100\n",
      "\u001B[1m312/312\u001B[0m \u001B[32m━━━━━━━━━━━━━━━━━━━━\u001B[0m\u001B[37m\u001B[0m \u001B[1m12s\u001B[0m 38ms/step - accuracy: 0.4581 - loss: 2.1720 - val_accuracy: 0.5262 - val_loss: 1.9628 - learning_rate: 0.0100\n",
      "Epoch 15/100\n",
      "\u001B[1m312/312\u001B[0m \u001B[32m━━━━━━━━━━━━━━━━━━━━\u001B[0m\u001B[37m\u001B[0m \u001B[1m12s\u001B[0m 39ms/step - accuracy: 0.4686 - loss: 2.1141 - val_accuracy: 0.5330 - val_loss: 1.9212 - learning_rate: 0.0100\n",
      "Epoch 16/100\n",
      "\u001B[1m312/312\u001B[0m \u001B[32m━━━━━━━━━━━━━━━━━━━━\u001B[0m\u001B[37m\u001B[0m \u001B[1m12s\u001B[0m 38ms/step - accuracy: 0.4650 - loss: 2.0870 - val_accuracy: 0.5320 - val_loss: 1.8889 - learning_rate: 0.0100\n",
      "Epoch 17/100\n",
      "\u001B[1m312/312\u001B[0m \u001B[32m━━━━━━━━━━━━━━━━━━━━\u001B[0m\u001B[37m\u001B[0m \u001B[1m12s\u001B[0m 38ms/step - accuracy: 0.4742 - loss: 2.0460 - val_accuracy: 0.5350 - val_loss: 1.8482 - learning_rate: 0.0100\n",
      "Epoch 18/100\n",
      "\u001B[1m312/312\u001B[0m \u001B[32m━━━━━━━━━━━━━━━━━━━━\u001B[0m\u001B[37m\u001B[0m \u001B[1m12s\u001B[0m 38ms/step - accuracy: 0.4772 - loss: 2.0061 - val_accuracy: 0.5353 - val_loss: 1.8179 - learning_rate: 0.0100\n",
      "Epoch 19/100\n",
      "\u001B[1m312/312\u001B[0m \u001B[32m━━━━━━━━━━━━━━━━━━━━\u001B[0m\u001B[37m\u001B[0m \u001B[1m13s\u001B[0m 41ms/step - accuracy: 0.4755 - loss: 1.9820 - val_accuracy: 0.5431 - val_loss: 1.7875 - learning_rate: 0.0100\n",
      "Epoch 20/100\n",
      "\u001B[1m312/312\u001B[0m \u001B[32m━━━━━━━━━━━━━━━━━━━━\u001B[0m\u001B[37m\u001B[0m \u001B[1m11s\u001B[0m 37ms/step - accuracy: 0.4821 - loss: 1.9501 - val_accuracy: 0.5472 - val_loss: 1.7562 - learning_rate: 0.0100\n",
      "Epoch 21/100\n",
      "\u001B[1m312/312\u001B[0m \u001B[32m━━━━━━━━━━━━━━━━━━━━\u001B[0m\u001B[37m\u001B[0m \u001B[1m11s\u001B[0m 36ms/step - accuracy: 0.4861 - loss: 1.9111 - val_accuracy: 0.5390 - val_loss: 1.7380 - learning_rate: 0.0100\n",
      "Epoch 22/100\n",
      "\u001B[1m312/312\u001B[0m \u001B[32m━━━━━━━━━━━━━━━━━━━━\u001B[0m\u001B[37m\u001B[0m \u001B[1m11s\u001B[0m 37ms/step - accuracy: 0.4875 - loss: 1.8811 - val_accuracy: 0.5438 - val_loss: 1.7088 - learning_rate: 0.0100\n",
      "Epoch 23/100\n",
      "\u001B[1m312/312\u001B[0m \u001B[32m━━━━━━━━━━━━━━━━━━━━\u001B[0m\u001B[37m\u001B[0m \u001B[1m12s\u001B[0m 39ms/step - accuracy: 0.4843 - loss: 1.8747 - val_accuracy: 0.5436 - val_loss: 1.6835 - learning_rate: 0.0100\n",
      "Epoch 24/100\n",
      "\u001B[1m312/312\u001B[0m \u001B[32m━━━━━━━━━━━━━━━━━━━━\u001B[0m\u001B[37m\u001B[0m \u001B[1m12s\u001B[0m 38ms/step - accuracy: 0.4941 - loss: 1.8331 - val_accuracy: 0.5502 - val_loss: 1.6613 - learning_rate: 0.0100\n",
      "Epoch 25/100\n",
      "\u001B[1m312/312\u001B[0m \u001B[32m━━━━━━━━━━━━━━━━━━━━\u001B[0m\u001B[37m\u001B[0m \u001B[1m11s\u001B[0m 36ms/step - accuracy: 0.4861 - loss: 1.8322 - val_accuracy: 0.5454 - val_loss: 1.6484 - learning_rate: 0.0100\n",
      "Epoch 26/100\n",
      "\u001B[1m312/312\u001B[0m \u001B[32m━━━━━━━━━━━━━━━━━━━━\u001B[0m\u001B[37m\u001B[0m \u001B[1m12s\u001B[0m 39ms/step - accuracy: 0.4923 - loss: 1.8023 - val_accuracy: 0.5562 - val_loss: 1.6157 - learning_rate: 0.0100\n",
      "Epoch 27/100\n",
      "\u001B[1m312/312\u001B[0m \u001B[32m━━━━━━━━━━━━━━━━━━━━\u001B[0m\u001B[37m\u001B[0m \u001B[1m12s\u001B[0m 38ms/step - accuracy: 0.4896 - loss: 1.7881 - val_accuracy: 0.5516 - val_loss: 1.6061 - learning_rate: 0.0100\n",
      "Epoch 28/100\n",
      "\u001B[1m312/312\u001B[0m \u001B[32m━━━━━━━━━━━━━━━━━━━━\u001B[0m\u001B[37m\u001B[0m \u001B[1m11s\u001B[0m 34ms/step - accuracy: 0.4989 - loss: 1.7518 - val_accuracy: 0.5621 - val_loss: 1.5728 - learning_rate: 0.0100\n",
      "Epoch 29/100\n",
      "\u001B[1m312/312\u001B[0m \u001B[32m━━━━━━━━━━━━━━━━━━━━\u001B[0m\u001B[37m\u001B[0m \u001B[1m10s\u001B[0m 31ms/step - accuracy: 0.4928 - loss: 1.7574 - val_accuracy: 0.5572 - val_loss: 1.5711 - learning_rate: 0.0100\n",
      "Epoch 30/100\n",
      "\u001B[1m312/312\u001B[0m \u001B[32m━━━━━━━━━━━━━━━━━━━━\u001B[0m\u001B[37m\u001B[0m \u001B[1m10s\u001B[0m 31ms/step - accuracy: 0.5051 - loss: 1.7126 - val_accuracy: 0.5638 - val_loss: 1.5431 - learning_rate: 0.0100\n",
      "Epoch 31/100\n",
      "\u001B[1m312/312\u001B[0m \u001B[32m━━━━━━━━━━━━━━━━━━━━\u001B[0m\u001B[37m\u001B[0m \u001B[1m11s\u001B[0m 35ms/step - accuracy: 0.4932 - loss: 1.7255 - val_accuracy: 0.5589 - val_loss: 1.5411 - learning_rate: 0.0100\n",
      "Epoch 32/100\n",
      "\u001B[1m312/312\u001B[0m \u001B[32m━━━━━━━━━━━━━━━━━━━━\u001B[0m\u001B[37m\u001B[0m \u001B[1m14s\u001B[0m 44ms/step - accuracy: 0.5031 - loss: 1.6930 - val_accuracy: 0.5642 - val_loss: 1.5224 - learning_rate: 0.0100\n",
      "Epoch 33/100\n",
      "\u001B[1m312/312\u001B[0m \u001B[32m━━━━━━━━━━━━━━━━━━━━\u001B[0m\u001B[37m\u001B[0m \u001B[1m16s\u001B[0m 53ms/step - accuracy: 0.4993 - loss: 1.6793 - val_accuracy: 0.5661 - val_loss: 1.5051 - learning_rate: 0.0100\n",
      "Epoch 34/100\n",
      "\u001B[1m312/312\u001B[0m \u001B[32m━━━━━━━━━━━━━━━━━━━━\u001B[0m\u001B[37m\u001B[0m \u001B[1m16s\u001B[0m 51ms/step - accuracy: 0.5059 - loss: 1.6737 - val_accuracy: 0.5657 - val_loss: 1.4952 - learning_rate: 0.0100\n",
      "Epoch 35/100\n",
      "\u001B[1m312/312\u001B[0m \u001B[32m━━━━━━━━━━━━━━━━━━━━\u001B[0m\u001B[37m\u001B[0m \u001B[1m14s\u001B[0m 46ms/step - accuracy: 0.5036 - loss: 1.6537 - val_accuracy: 0.5623 - val_loss: 1.4923 - learning_rate: 0.0100\n",
      "Epoch 36/100\n",
      "\u001B[1m312/312\u001B[0m \u001B[32m━━━━━━━━━━━━━━━━━━━━\u001B[0m\u001B[37m\u001B[0m \u001B[1m13s\u001B[0m 42ms/step - accuracy: 0.5045 - loss: 1.6494 - val_accuracy: 0.5605 - val_loss: 1.4794 - learning_rate: 0.0100\n",
      "Epoch 37/100\n",
      "\u001B[1m312/312\u001B[0m \u001B[32m━━━━━━━━━━━━━━━━━━━━\u001B[0m\u001B[37m\u001B[0m \u001B[1m22s\u001B[0m 70ms/step - accuracy: 0.5088 - loss: 1.6381 - val_accuracy: 0.5676 - val_loss: 1.4687 - learning_rate: 0.0100\n",
      "Epoch 38/100\n",
      "\u001B[1m312/312\u001B[0m \u001B[32m━━━━━━━━━━━━━━━━━━━━\u001B[0m\u001B[37m\u001B[0m \u001B[1m18s\u001B[0m 57ms/step - accuracy: 0.5075 - loss: 1.6329 - val_accuracy: 0.5692 - val_loss: 1.4509 - learning_rate: 0.0100\n",
      "Epoch 39/100\n",
      "\u001B[1m312/312\u001B[0m \u001B[32m━━━━━━━━━━━━━━━━━━━━\u001B[0m\u001B[37m\u001B[0m \u001B[1m18s\u001B[0m 59ms/step - accuracy: 0.5136 - loss: 1.6064 - val_accuracy: 0.5669 - val_loss: 1.4441 - learning_rate: 0.0100\n",
      "Epoch 40/100\n",
      "\u001B[1m312/312\u001B[0m \u001B[32m━━━━━━━━━━━━━━━━━━━━\u001B[0m\u001B[37m\u001B[0m \u001B[1m14s\u001B[0m 43ms/step - accuracy: 0.5131 - loss: 1.6062 - val_accuracy: 0.5686 - val_loss: 1.4375 - learning_rate: 0.0100\n",
      "Epoch 41/100\n",
      "\u001B[1m312/312\u001B[0m \u001B[32m━━━━━━━━━━━━━━━━━━━━\u001B[0m\u001B[37m\u001B[0m \u001B[1m14s\u001B[0m 45ms/step - accuracy: 0.5106 - loss: 1.6089 - val_accuracy: 0.5693 - val_loss: 1.4362 - learning_rate: 0.0100\n",
      "Epoch 42/100\n",
      "\u001B[1m312/312\u001B[0m \u001B[32m━━━━━━━━━━━━━━━━━━━━\u001B[0m\u001B[37m\u001B[0m \u001B[1m17s\u001B[0m 53ms/step - accuracy: 0.5142 - loss: 1.5917 - val_accuracy: 0.5724 - val_loss: 1.4218 - learning_rate: 0.0100\n",
      "Epoch 43/100\n",
      "\u001B[1m312/312\u001B[0m \u001B[32m━━━━━━━━━━━━━━━━━━━━\u001B[0m\u001B[37m\u001B[0m \u001B[1m14s\u001B[0m 44ms/step - accuracy: 0.5119 - loss: 1.5831 - val_accuracy: 0.5722 - val_loss: 1.4121 - learning_rate: 0.0100\n",
      "Epoch 44/100\n",
      "\u001B[1m312/312\u001B[0m \u001B[32m━━━━━━━━━━━━━━━━━━━━\u001B[0m\u001B[37m\u001B[0m \u001B[1m15s\u001B[0m 47ms/step - accuracy: 0.5105 - loss: 1.5922 - val_accuracy: 0.5701 - val_loss: 1.4139 - learning_rate: 0.0100\n",
      "Epoch 45/100\n",
      "\u001B[1m312/312\u001B[0m \u001B[32m━━━━━━━━━━━━━━━━━━━━\u001B[0m\u001B[37m\u001B[0m \u001B[1m13s\u001B[0m 42ms/step - accuracy: 0.5152 - loss: 1.5761 - val_accuracy: 0.5755 - val_loss: 1.4003 - learning_rate: 0.0100\n",
      "Epoch 46/100\n",
      "\u001B[1m312/312\u001B[0m \u001B[32m━━━━━━━━━━━━━━━━━━━━\u001B[0m\u001B[37m\u001B[0m \u001B[1m13s\u001B[0m 42ms/step - accuracy: 0.5143 - loss: 1.5821 - val_accuracy: 0.5786 - val_loss: 1.3870 - learning_rate: 0.0100\n",
      "Epoch 47/100\n",
      "\u001B[1m312/312\u001B[0m \u001B[32m━━━━━━━━━━━━━━━━━━━━\u001B[0m\u001B[37m\u001B[0m \u001B[1m14s\u001B[0m 46ms/step - accuracy: 0.5162 - loss: 1.5651 - val_accuracy: 0.5845 - val_loss: 1.3864 - learning_rate: 0.0100\n",
      "Epoch 48/100\n",
      "\u001B[1m312/312\u001B[0m \u001B[32m━━━━━━━━━━━━━━━━━━━━\u001B[0m\u001B[37m\u001B[0m \u001B[1m14s\u001B[0m 45ms/step - accuracy: 0.5181 - loss: 1.5601 - val_accuracy: 0.5718 - val_loss: 1.4001 - learning_rate: 0.0100\n",
      "Epoch 49/100\n",
      "\u001B[1m312/312\u001B[0m \u001B[32m━━━━━━━━━━━━━━━━━━━━\u001B[0m\u001B[37m\u001B[0m \u001B[1m13s\u001B[0m 43ms/step - accuracy: 0.5221 - loss: 1.5514 - val_accuracy: 0.5832 - val_loss: 1.3721 - learning_rate: 0.0100\n",
      "Epoch 50/100\n",
      "\u001B[1m312/312\u001B[0m \u001B[32m━━━━━━━━━━━━━━━━━━━━\u001B[0m\u001B[37m\u001B[0m \u001B[1m12s\u001B[0m 39ms/step - accuracy: 0.5193 - loss: 1.5608 - val_accuracy: 0.5825 - val_loss: 1.3723 - learning_rate: 0.0100\n",
      "Epoch 51/100\n",
      "\u001B[1m312/312\u001B[0m \u001B[32m━━━━━━━━━━━━━━━━━━━━\u001B[0m\u001B[37m\u001B[0m \u001B[1m17s\u001B[0m 54ms/step - accuracy: 0.5242 - loss: 1.5350 - val_accuracy: 0.5832 - val_loss: 1.3721 - learning_rate: 0.0100\n",
      "Epoch 52/100\n",
      "\u001B[1m312/312\u001B[0m \u001B[32m━━━━━━━━━━━━━━━━━━━━\u001B[0m\u001B[37m\u001B[0m \u001B[1m17s\u001B[0m 54ms/step - accuracy: 0.5226 - loss: 1.5401 - val_accuracy: 0.5821 - val_loss: 1.3652 - learning_rate: 0.0100\n",
      "Epoch 53/100\n",
      "\u001B[1m312/312\u001B[0m \u001B[32m━━━━━━━━━━━━━━━━━━━━\u001B[0m\u001B[37m\u001B[0m \u001B[1m16s\u001B[0m 50ms/step - accuracy: 0.5290 - loss: 1.5137 - val_accuracy: 0.5767 - val_loss: 1.3741 - learning_rate: 0.0100\n",
      "Epoch 54/100\n",
      "\u001B[1m312/312\u001B[0m \u001B[32m━━━━━━━━━━━━━━━━━━━━\u001B[0m\u001B[37m\u001B[0m \u001B[1m17s\u001B[0m 56ms/step - accuracy: 0.5237 - loss: 1.5276 - val_accuracy: 0.5817 - val_loss: 1.3694 - learning_rate: 0.0100\n",
      "Epoch 55/100\n",
      "\u001B[1m312/312\u001B[0m \u001B[32m━━━━━━━━━━━━━━━━━━━━\u001B[0m\u001B[37m\u001B[0m \u001B[1m24s\u001B[0m 76ms/step - accuracy: 0.5222 - loss: 1.5286 - val_accuracy: 0.5847 - val_loss: 1.3670 - learning_rate: 0.0100\n",
      "Epoch 56/100\n",
      "\u001B[1m312/312\u001B[0m \u001B[32m━━━━━━━━━━━━━━━━━━━━\u001B[0m\u001B[37m\u001B[0m \u001B[1m14s\u001B[0m 45ms/step - accuracy: 0.5347 - loss: 1.4945 - val_accuracy: 0.5940 - val_loss: 1.3194 - learning_rate: 0.0050\n",
      "Epoch 57/100\n",
      "\u001B[1m312/312\u001B[0m \u001B[32m━━━━━━━━━━━━━━━━━━━━\u001B[0m\u001B[37m\u001B[0m \u001B[1m14s\u001B[0m 45ms/step - accuracy: 0.5358 - loss: 1.4803 - val_accuracy: 0.6011 - val_loss: 1.3087 - learning_rate: 0.0050\n",
      "Epoch 58/100\n",
      "\u001B[1m312/312\u001B[0m \u001B[32m━━━━━━━━━━━━━━━━━━━━\u001B[0m\u001B[37m\u001B[0m \u001B[1m18s\u001B[0m 58ms/step - accuracy: 0.5417 - loss: 1.4776 - val_accuracy: 0.5994 - val_loss: 1.3047 - learning_rate: 0.0050\n",
      "Epoch 59/100\n",
      "\u001B[1m312/312\u001B[0m \u001B[32m━━━━━━━━━━━━━━━━━━━━\u001B[0m\u001B[37m\u001B[0m \u001B[1m22s\u001B[0m 69ms/step - accuracy: 0.5460 - loss: 1.4631 - val_accuracy: 0.6038 - val_loss: 1.2941 - learning_rate: 0.0050\n",
      "Epoch 60/100\n",
      "\u001B[1m312/312\u001B[0m \u001B[32m━━━━━━━━━━━━━━━━━━━━\u001B[0m\u001B[37m\u001B[0m \u001B[1m17s\u001B[0m 53ms/step - accuracy: 0.5416 - loss: 1.4533 - val_accuracy: 0.6043 - val_loss: 1.2961 - learning_rate: 0.0050\n",
      "Epoch 61/100\n",
      "\u001B[1m312/312\u001B[0m \u001B[32m━━━━━━━━━━━━━━━━━━━━\u001B[0m\u001B[37m\u001B[0m \u001B[1m15s\u001B[0m 49ms/step - accuracy: 0.5526 - loss: 1.4396 - val_accuracy: 0.6033 - val_loss: 1.2860 - learning_rate: 0.0050\n",
      "Epoch 62/100\n",
      "\u001B[1m312/312\u001B[0m \u001B[32m━━━━━━━━━━━━━━━━━━━━\u001B[0m\u001B[37m\u001B[0m \u001B[1m20s\u001B[0m 64ms/step - accuracy: 0.5457 - loss: 1.4495 - val_accuracy: 0.6067 - val_loss: 1.2832 - learning_rate: 0.0050\n",
      "Epoch 63/100\n",
      "\u001B[1m312/312\u001B[0m \u001B[32m━━━━━━━━━━━━━━━━━━━━\u001B[0m\u001B[37m\u001B[0m \u001B[1m17s\u001B[0m 54ms/step - accuracy: 0.5506 - loss: 1.4378 - val_accuracy: 0.6115 - val_loss: 1.2778 - learning_rate: 0.0050\n",
      "Epoch 64/100\n",
      "\u001B[1m312/312\u001B[0m \u001B[32m━━━━━━━━━━━━━━━━━━━━\u001B[0m\u001B[37m\u001B[0m \u001B[1m20s\u001B[0m 64ms/step - accuracy: 0.5421 - loss: 1.4489 - val_accuracy: 0.6074 - val_loss: 1.2789 - learning_rate: 0.0050\n",
      "Epoch 65/100\n",
      "\u001B[1m312/312\u001B[0m \u001B[32m━━━━━━━━━━━━━━━━━━━━\u001B[0m\u001B[37m\u001B[0m \u001B[1m17s\u001B[0m 54ms/step - accuracy: 0.5480 - loss: 1.4351 - val_accuracy: 0.6059 - val_loss: 1.2755 - learning_rate: 0.0050\n",
      "Epoch 66/100\n",
      "\u001B[1m312/312\u001B[0m \u001B[32m━━━━━━━━━━━━━━━━━━━━\u001B[0m\u001B[37m\u001B[0m \u001B[1m15s\u001B[0m 48ms/step - accuracy: 0.5556 - loss: 1.4140 - val_accuracy: 0.6102 - val_loss: 1.2687 - learning_rate: 0.0050\n",
      "Epoch 67/100\n",
      "\u001B[1m312/312\u001B[0m \u001B[32m━━━━━━━━━━━━━━━━━━━━\u001B[0m\u001B[37m\u001B[0m \u001B[1m14s\u001B[0m 46ms/step - accuracy: 0.5498 - loss: 1.4261 - val_accuracy: 0.6108 - val_loss: 1.2648 - learning_rate: 0.0050\n",
      "Epoch 68/100\n",
      "\u001B[1m312/312\u001B[0m \u001B[32m━━━━━━━━━━━━━━━━━━━━\u001B[0m\u001B[37m\u001B[0m \u001B[1m15s\u001B[0m 48ms/step - accuracy: 0.5489 - loss: 1.4301 - val_accuracy: 0.6037 - val_loss: 1.2666 - learning_rate: 0.0050\n",
      "Epoch 69/100\n",
      "\u001B[1m312/312\u001B[0m \u001B[32m━━━━━━━━━━━━━━━━━━━━\u001B[0m\u001B[37m\u001B[0m \u001B[1m10s\u001B[0m 33ms/step - accuracy: 0.5524 - loss: 1.4235 - val_accuracy: 0.6110 - val_loss: 1.2542 - learning_rate: 0.0050\n",
      "Epoch 70/100\n",
      "\u001B[1m312/312\u001B[0m \u001B[32m━━━━━━━━━━━━━━━━━━━━\u001B[0m\u001B[37m\u001B[0m \u001B[1m16s\u001B[0m 53ms/step - accuracy: 0.5508 - loss: 1.4205 - val_accuracy: 0.6099 - val_loss: 1.2554 - learning_rate: 0.0050\n",
      "Epoch 71/100\n",
      "\u001B[1m312/312\u001B[0m \u001B[32m━━━━━━━━━━━━━━━━━━━━\u001B[0m\u001B[37m\u001B[0m \u001B[1m14s\u001B[0m 45ms/step - accuracy: 0.5483 - loss: 1.4226 - val_accuracy: 0.6124 - val_loss: 1.2523 - learning_rate: 0.0050\n",
      "Epoch 72/100\n",
      "\u001B[1m312/312\u001B[0m \u001B[32m━━━━━━━━━━━━━━━━━━━━\u001B[0m\u001B[37m\u001B[0m \u001B[1m16s\u001B[0m 51ms/step - accuracy: 0.5519 - loss: 1.4094 - val_accuracy: 0.6100 - val_loss: 1.2577 - learning_rate: 0.0050\n",
      "Epoch 73/100\n",
      "\u001B[1m312/312\u001B[0m \u001B[32m━━━━━━━━━━━━━━━━━━━━\u001B[0m\u001B[37m\u001B[0m \u001B[1m17s\u001B[0m 55ms/step - accuracy: 0.5554 - loss: 1.4085 - val_accuracy: 0.6113 - val_loss: 1.2576 - learning_rate: 0.0050\n",
      "Epoch 74/100\n",
      "\u001B[1m312/312\u001B[0m \u001B[32m━━━━━━━━━━━━━━━━━━━━\u001B[0m\u001B[37m\u001B[0m \u001B[1m15s\u001B[0m 48ms/step - accuracy: 0.5522 - loss: 1.4162 - val_accuracy: 0.6161 - val_loss: 1.2415 - learning_rate: 0.0050\n",
      "Epoch 75/100\n",
      "\u001B[1m312/312\u001B[0m \u001B[32m━━━━━━━━━━━━━━━━━━━━\u001B[0m\u001B[37m\u001B[0m \u001B[1m22s\u001B[0m 71ms/step - accuracy: 0.5520 - loss: 1.4139 - val_accuracy: 0.6109 - val_loss: 1.2497 - learning_rate: 0.0050\n",
      "Epoch 76/100\n",
      "\u001B[1m312/312\u001B[0m \u001B[32m━━━━━━━━━━━━━━━━━━━━\u001B[0m\u001B[37m\u001B[0m \u001B[1m22s\u001B[0m 72ms/step - accuracy: 0.5507 - loss: 1.4112 - val_accuracy: 0.6139 - val_loss: 1.2444 - learning_rate: 0.0050\n",
      "Epoch 77/100\n",
      "\u001B[1m312/312\u001B[0m \u001B[32m━━━━━━━━━━━━━━━━━━━━\u001B[0m\u001B[37m\u001B[0m \u001B[1m22s\u001B[0m 72ms/step - accuracy: 0.5498 - loss: 1.4166 - val_accuracy: 0.6125 - val_loss: 1.2454 - learning_rate: 0.0050\n",
      "Epoch 78/100\n",
      "\u001B[1m312/312\u001B[0m \u001B[32m━━━━━━━━━━━━━━━━━━━━\u001B[0m\u001B[37m\u001B[0m \u001B[1m19s\u001B[0m 61ms/step - accuracy: 0.5633 - loss: 1.3951 - val_accuracy: 0.6232 - val_loss: 1.2190 - learning_rate: 0.0025\n",
      "Epoch 79/100\n",
      "\u001B[1m312/312\u001B[0m \u001B[32m━━━━━━━━━━━━━━━━━━━━\u001B[0m\u001B[37m\u001B[0m \u001B[1m20s\u001B[0m 66ms/step - accuracy: 0.5705 - loss: 1.3656 - val_accuracy: 0.6244 - val_loss: 1.2115 - learning_rate: 0.0025\n",
      "Epoch 80/100\n",
      "\u001B[1m312/312\u001B[0m \u001B[32m━━━━━━━━━━━━━━━━━━━━\u001B[0m\u001B[37m\u001B[0m \u001B[1m18s\u001B[0m 57ms/step - accuracy: 0.5701 - loss: 1.3681 - val_accuracy: 0.6248 - val_loss: 1.2027 - learning_rate: 0.0025\n",
      "Epoch 81/100\n",
      "\u001B[1m312/312\u001B[0m \u001B[32m━━━━━━━━━━━━━━━━━━━━\u001B[0m\u001B[37m\u001B[0m \u001B[1m20s\u001B[0m 64ms/step - accuracy: 0.5677 - loss: 1.3642 - val_accuracy: 0.6238 - val_loss: 1.2068 - learning_rate: 0.0025\n",
      "Epoch 82/100\n",
      "\u001B[1m312/312\u001B[0m \u001B[32m━━━━━━━━━━━━━━━━━━━━\u001B[0m\u001B[37m\u001B[0m \u001B[1m19s\u001B[0m 61ms/step - accuracy: 0.5687 - loss: 1.3509 - val_accuracy: 0.6254 - val_loss: 1.1986 - learning_rate: 0.0025\n",
      "Epoch 83/100\n",
      "\u001B[1m312/312\u001B[0m \u001B[32m━━━━━━━━━━━━━━━━━━━━\u001B[0m\u001B[37m\u001B[0m \u001B[1m17s\u001B[0m 56ms/step - accuracy: 0.5707 - loss: 1.3539 - val_accuracy: 0.6293 - val_loss: 1.1948 - learning_rate: 0.0025\n",
      "Epoch 84/100\n",
      "\u001B[1m312/312\u001B[0m \u001B[32m━━━━━━━━━━━━━━━━━━━━\u001B[0m\u001B[37m\u001B[0m \u001B[1m17s\u001B[0m 56ms/step - accuracy: 0.5673 - loss: 1.3581 - val_accuracy: 0.6296 - val_loss: 1.1901 - learning_rate: 0.0025\n",
      "Epoch 85/100\n",
      "\u001B[1m312/312\u001B[0m \u001B[32m━━━━━━━━━━━━━━━━━━━━\u001B[0m\u001B[37m\u001B[0m \u001B[1m19s\u001B[0m 63ms/step - accuracy: 0.5727 - loss: 1.3509 - val_accuracy: 0.6276 - val_loss: 1.1941 - learning_rate: 0.0025\n",
      "Epoch 86/100\n",
      "\u001B[1m312/312\u001B[0m \u001B[32m━━━━━━━━━━━━━━━━━━━━\u001B[0m\u001B[37m\u001B[0m \u001B[1m16s\u001B[0m 51ms/step - accuracy: 0.5716 - loss: 1.3454 - val_accuracy: 0.6246 - val_loss: 1.1965 - learning_rate: 0.0025\n",
      "Epoch 87/100\n",
      "\u001B[1m312/312\u001B[0m \u001B[32m━━━━━━━━━━━━━━━━━━━━\u001B[0m\u001B[37m\u001B[0m \u001B[1m19s\u001B[0m 61ms/step - accuracy: 0.5745 - loss: 1.3373 - val_accuracy: 0.6291 - val_loss: 1.1874 - learning_rate: 0.0025\n",
      "Epoch 88/100\n",
      "\u001B[1m312/312\u001B[0m \u001B[32m━━━━━━━━━━━━━━━━━━━━\u001B[0m\u001B[37m\u001B[0m \u001B[1m14s\u001B[0m 45ms/step - accuracy: 0.5693 - loss: 1.3455 - val_accuracy: 0.6297 - val_loss: 1.1890 - learning_rate: 0.0025\n",
      "Epoch 89/100\n",
      "\u001B[1m312/312\u001B[0m \u001B[32m━━━━━━━━━━━━━━━━━━━━\u001B[0m\u001B[37m\u001B[0m \u001B[1m15s\u001B[0m 49ms/step - accuracy: 0.5752 - loss: 1.3399 - val_accuracy: 0.6309 - val_loss: 1.1848 - learning_rate: 0.0025\n",
      "Epoch 90/100\n",
      "\u001B[1m312/312\u001B[0m \u001B[32m━━━━━━━━━━━━━━━━━━━━\u001B[0m\u001B[37m\u001B[0m \u001B[1m14s\u001B[0m 43ms/step - accuracy: 0.5688 - loss: 1.3371 - val_accuracy: 0.6284 - val_loss: 1.1939 - learning_rate: 0.0025\n",
      "Epoch 91/100\n",
      "\u001B[1m312/312\u001B[0m \u001B[32m━━━━━━━━━━━━━━━━━━━━\u001B[0m\u001B[37m\u001B[0m \u001B[1m14s\u001B[0m 43ms/step - accuracy: 0.5760 - loss: 1.3345 - val_accuracy: 0.6291 - val_loss: 1.1819 - learning_rate: 0.0025\n",
      "Epoch 92/100\n",
      "\u001B[1m312/312\u001B[0m \u001B[32m━━━━━━━━━━━━━━━━━━━━\u001B[0m\u001B[37m\u001B[0m \u001B[1m14s\u001B[0m 46ms/step - accuracy: 0.5716 - loss: 1.3386 - val_accuracy: 0.6348 - val_loss: 1.1776 - learning_rate: 0.0025\n",
      "Epoch 93/100\n",
      "\u001B[1m312/312\u001B[0m \u001B[32m━━━━━━━━━━━━━━━━━━━━\u001B[0m\u001B[37m\u001B[0m \u001B[1m13s\u001B[0m 41ms/step - accuracy: 0.5715 - loss: 1.3429 - val_accuracy: 0.6297 - val_loss: 1.1767 - learning_rate: 0.0025\n",
      "Epoch 94/100\n",
      "\u001B[1m312/312\u001B[0m \u001B[32m━━━━━━━━━━━━━━━━━━━━\u001B[0m\u001B[37m\u001B[0m \u001B[1m12s\u001B[0m 39ms/step - accuracy: 0.5704 - loss: 1.3464 - val_accuracy: 0.6339 - val_loss: 1.1741 - learning_rate: 0.0025\n",
      "Epoch 95/100\n",
      "\u001B[1m312/312\u001B[0m \u001B[32m━━━━━━━━━━━━━━━━━━━━\u001B[0m\u001B[37m\u001B[0m \u001B[1m13s\u001B[0m 41ms/step - accuracy: 0.5773 - loss: 1.3255 - val_accuracy: 0.6324 - val_loss: 1.1748 - learning_rate: 0.0025\n",
      "Epoch 96/100\n",
      "\u001B[1m312/312\u001B[0m \u001B[32m━━━━━━━━━━━━━━━━━━━━\u001B[0m\u001B[37m\u001B[0m \u001B[1m17s\u001B[0m 55ms/step - accuracy: 0.5773 - loss: 1.3267 - val_accuracy: 0.6318 - val_loss: 1.1775 - learning_rate: 0.0025\n",
      "Epoch 97/100\n",
      "\u001B[1m312/312\u001B[0m \u001B[32m━━━━━━━━━━━━━━━━━━━━\u001B[0m\u001B[37m\u001B[0m \u001B[1m17s\u001B[0m 55ms/step - accuracy: 0.5737 - loss: 1.3246 - val_accuracy: 0.6351 - val_loss: 1.1695 - learning_rate: 0.0025\n",
      "Epoch 98/100\n",
      "\u001B[1m312/312\u001B[0m \u001B[32m━━━━━━━━━━━━━━━━━━━━\u001B[0m\u001B[37m\u001B[0m \u001B[1m16s\u001B[0m 52ms/step - accuracy: 0.5771 - loss: 1.3273 - val_accuracy: 0.6328 - val_loss: 1.1748 - learning_rate: 0.0025\n",
      "Epoch 99/100\n",
      "\u001B[1m312/312\u001B[0m \u001B[32m━━━━━━━━━━━━━━━━━━━━\u001B[0m\u001B[37m\u001B[0m \u001B[1m16s\u001B[0m 50ms/step - accuracy: 0.5804 - loss: 1.3123 - val_accuracy: 0.6354 - val_loss: 1.1693 - learning_rate: 0.0025\n",
      "Epoch 100/100\n",
      "\u001B[1m312/312\u001B[0m \u001B[32m━━━━━━━━━━━━━━━━━━━━\u001B[0m\u001B[37m\u001B[0m \u001B[1m17s\u001B[0m 54ms/step - accuracy: 0.5771 - loss: 1.3230 - val_accuracy: 0.6322 - val_loss: 1.1673 - learning_rate: 0.0025\n"
     ]
    }
   ],
   "execution_count": 5
  },
  {
   "metadata": {},
   "cell_type": "markdown",
   "source": [
    "### Evaluation\n",
    "\n",
    "This code evaluates the model on the test set and prints the test loss and accuracy. It also visualizes some predictions by displaying the images and their corresponding prediction probabilities."
   ],
   "id": "b957c73c9bba33a6"
  },
  {
   "metadata": {
    "ExecuteTime": {
     "end_time": "2025-03-27T09:37:33.665023Z",
     "start_time": "2025-03-27T09:37:32.667292Z"
    }
   },
   "cell_type": "code",
   "source": [
    "plt.plot(history.history[\"loss\"])\n",
    "plt.plot(history.history[\"val_loss\"])\n",
    "plt.grid()\n",
    "plt.show()"
   ],
   "id": "e7c83861a0bfe1d8",
   "outputs": [
    {
     "data": {
      "text/plain": [
       "<Figure size 640x480 with 1 Axes>"
      ],
      "image/png": "[encoded data removed]"
     },
     "metadata": {},
     "output_type": "display_data"
    }
   ],
   "execution_count": 6
  },
  {
   "metadata": {
    "ExecuteTime": {
     "end_time": "2025-03-27T09:37:39.546274Z",
     "start_time": "2025-03-27T09:37:33.704496Z"
    }
   },
   "cell_type": "code",
   "source": [
    "test_scores = improved_model.evaluate(X_test, y_test, verbose=2)\n",
    "print(\"Test loss:\", test_scores[0])\n",
    "print(\"Test accuracy:\", test_scores[1])"
   ],
   "id": "70622cd8ea4b4796",
   "outputs": [
    {
     "name": "stderr",
     "output_type": "stream",
     "text": [
      "2025-03-27 11:37:36.305754: W external/local_xla/xla/tsl/framework/cpu_allocator_impl.cc:83] Allocation of 122880000 exceeds 10% of free system memory.\n",
      "2025-03-27 11:37:36.982228: W external/local_xla/xla/tsl/framework/cpu_allocator_impl.cc:83] Allocation of 122880000 exceeds 10% of free system memory.\n"
     ]
    },
    {
     "name": "stdout",
     "output_type": "stream",
     "text": [
      "313/313 - 2s - 7ms/step - accuracy: 0.6219 - loss: 1.1843\n",
      "Test loss: 1.184260606765747\n",
      "Test accuracy: 0.6219000220298767\n"
     ]
    }
   ],
   "execution_count": 7
  },
  {
   "metadata": {
    "ExecuteTime": {
     "end_time": "2025-03-27T09:37:48.165679Z",
     "start_time": "2025-03-27T09:37:39.586907Z"
    }
   },
   "cell_type": "code",
   "source": [
    "import numpy as np\n",
    "\n",
    "start = 2000\n",
    "\n",
    "int_to_label = {\n",
    "    0: \"airplane\",\n",
    "    1: \"automobile\",\n",
    "    2: \"bird\",\n",
    "    3: \"cat\",\n",
    "    4: \"deer\",\n",
    "    5: \"dog\",\n",
    "    6: \"frog\",\n",
    "    7: \"horse\",\n",
    "    8: \"ship\",\n",
    "    9: \"truck\"\n",
    "}\n",
    "\n",
    "for k in range(10):\n",
    "    plt.figure(figsize=(8, 2))\n",
    "\n",
    "    # Get one image\n",
    "    x = np.expand_dims(X_test[start + k], axis=0)\n",
    "\n",
    "    # Predict\n",
    "    y = improved_model.predict(x)[0]\n",
    "\n",
    "    # Fix contrast by rescaling pixel values back to [0,1]\n",
    "    img_rescaled = (X_test[start + k] - X_test[start + k].min()) / \\\n",
    "                   (X_test[start + k].max() - X_test[start + k].min())\n",
    "\n",
    "\n",
    "    # Show the image\n",
    "    plt.subplot(1, 2, 1)\n",
    "    plt.imshow(img_rescaled)\n",
    "    plt.axis(\"off\")\n",
    "\n",
    "    # Show the prediction probabilities\n",
    "    plt.subplot(1, 2, 2)\n",
    "    plt.bar(np.arange(10), y)\n",
    "    plt.xticks(range(10))\n",
    "\n",
    "    plt.suptitle(f\"Predicted: {int_to_label.get(np.argmax(y))}\")\n",
    "\n",
    "    plt.show()"
   ],
   "id": "e16e74a2dc00346f",
   "outputs": [
    {
     "name": "stdout",
     "output_type": "stream",
     "text": [
      "\u001B[1m1/1\u001B[0m \u001B[32m━━━━━━━━━━━━━━━━━━━━\u001B[0m\u001B[37m\u001B[0m \u001B[1m6s\u001B[0m 6s/step\n"
     ]
    },
    {
     "name": "stderr",
     "output_type": "stream",
     "text": [
      "Clipping input data to the valid range for imshow with RGB data ([0..1] for floats or [0..255] for integers). Got range [-1.9862154..1.5986629].\n"
     ]
    },
    {
     "data": {
      "text/plain": [
       "<Figure size 800x200 with 2 Axes>"
      ],
      "image/png": "[encoded data removed]"
     },
     "metadata": {},
     "output_type": "display_data"
    },
    {
     "name": "stdout",
     "output_type": "stream",
     "text": [
      "\u001B[1m1/1\u001B[0m \u001B[32m━━━━━━━━━━━━━━━━━━━━\u001B[0m\u001B[37m\u001B[0m \u001B[1m0s\u001B[0m 59ms/step\n"
     ]
    },
    {
     "name": "stderr",
     "output_type": "stream",
     "text": [
      "Clipping input data to the valid range for imshow with RGB data ([0..1] for floats or [0..255] for integers). Got range [-1.8595604..2.073154].\n"
     ]
    },
    {
     "data": {
      "text/plain": [
       "<Figure size 800x200 with 2 Axes>"
      ],
      "image/png": "[encoded data removed]"
     },
     "metadata": {},
     "output_type": "display_data"
    },
    {
     "name": "stdout",
     "output_type": "stream",
     "text": [
      "\u001B[1m1/1\u001B[0m \u001B[32m━━━━━━━━━━━━━━━━━━━━\u001B[0m\u001B[37m\u001B[0m \u001B[1m0s\u001B[0m 40ms/step\n"
     ]
    },
    {
     "name": "stderr",
     "output_type": "stream",
     "text": [
      "Clipping input data to the valid range for imshow with RGB data ([0..1] for floats or [0..255] for integers). Got range [-2.1814191..1.6803493].\n"
     ]
    },
    {
     "data": {
      "text/plain": [
       "<Figure size 800x200 with 2 Axes>"
      ],
      "image/png": "[encoded data removed]"
     },
     "metadata": {},
     "output_type": "display_data"
    },
    {
     "name": "stdout",
     "output_type": "stream",
     "text": [
      "\u001B[1m1/1\u001B[0m \u001B[32m━━━━━━━━━━━━━━━━━━━━\u001B[0m\u001B[37m\u001B[0m \u001B[1m0s\u001B[0m 43ms/step\n"
     ]
    },
    {
     "name": "stderr",
     "output_type": "stream",
     "text": [
      "Clipping input data to the valid range for imshow with RGB data ([0..1] for floats or [0..255] for integers). Got range [-1.7430602..1.6016728].\n"
     ]
    },
    {
     "data": {
      "text/plain": [
       "<Figure size 800x200 with 2 Axes>"
      ],
      "image/png": "[encoded data removed]"
     },
     "metadata": {},
     "output_type": "display_data"
    },
    {
     "name": "stdout",
     "output_type": "stream",
     "text": [
      "\u001B[1m1/1\u001B[0m \u001B[32m━━━━━━━━━━━━━━━━━━━━\u001B[0m\u001B[37m\u001B[0m \u001B[1m0s\u001B[0m 49ms/step\n"
     ]
    },
    {
     "name": "stderr",
     "output_type": "stream",
     "text": [
      "Clipping input data to the valid range for imshow with RGB data ([0..1] for floats or [0..255] for integers). Got range [-2.0848246..2.6250987].\n"
     ]
    },
    {
     "data": {
      "text/plain": [
       "<Figure size 800x200 with 2 Axes>"
      ],
      "image/png": "[encoded data removed]"
     },
     "metadata": {},
     "output_type": "display_data"
    },
    {
     "name": "stdout",
     "output_type": "stream",
     "text": [
      "\u001B[1m1/1\u001B[0m \u001B[32m━━━━━━━━━━━━━━━━━━━━\u001B[0m\u001B[37m\u001B[0m \u001B[1m0s\u001B[0m 40ms/step\n"
     ]
    },
    {
     "name": "stderr",
     "output_type": "stream",
     "text": [
      "Clipping input data to the valid range for imshow with RGB data ([0..1] for floats or [0..255] for integers). Got range [-1.6905259..2.2839038].\n"
     ]
    },
    {
     "data": {
      "text/plain": [
       "<Figure size 800x200 with 2 Axes>"
      ],
      "image/png": "[encoded data removed]"
     },
     "metadata": {},
     "output_type": "display_data"
    },
    {
     "name": "stdout",
     "output_type": "stream",
     "text": [
      "\u001B[1m1/1\u001B[0m \u001B[32m━━━━━━━━━━━━━━━━━━━━\u001B[0m\u001B[37m\u001B[0m \u001B[1m0s\u001B[0m 31ms/step\n"
     ]
    },
    {
     "name": "stderr",
     "output_type": "stream",
     "text": [
      "Clipping input data to the valid range for imshow with RGB data ([0..1] for floats or [0..255] for integers). Got range [-1.8058779..1.9426829].\n"
     ]
    },
    {
     "data": {
      "text/plain": [
       "<Figure size 800x200 with 2 Axes>"
      ],
      "image/png": "[encoded data removed]"
     },
     "metadata": {},
     "output_type": "display_data"
    },
    {
     "name": "stdout",
     "output_type": "stream",
     "text": [
      "\u001B[1m1/1\u001B[0m \u001B[32m━━━━━━━━━━━━━━━━━━━━\u001B[0m\u001B[37m\u001B[0m \u001B[1m0s\u001B[0m 42ms/step\n"
     ]
    },
    {
     "name": "stderr",
     "output_type": "stream",
     "text": [
      "Clipping input data to the valid range for imshow with RGB data ([0..1] for floats or [0..255] for integers). Got range [-1.9072556..2.0511596].\n"
     ]
    },
    {
     "data": {
      "text/plain": [
       "<Figure size 800x200 with 2 Axes>"
      ],
      "image/png": "[encoded data removed]"
     },
     "metadata": {},
     "output_type": "display_data"
    },
    {
     "name": "stdout",
     "output_type": "stream",
     "text": [
      "\u001B[1m1/1\u001B[0m \u001B[32m━━━━━━━━━━━━━━━━━━━━\u001B[0m\u001B[37m\u001B[0m \u001B[1m0s\u001B[0m 72ms/step\n"
     ]
    },
    {
     "name": "stderr",
     "output_type": "stream",
     "text": [
      "Clipping input data to the valid range for imshow with RGB data ([0..1] for floats or [0..255] for integers). Got range [-1.984687..2.4203954].\n"
     ]
    },
    {
     "data": {
      "text/plain": [
       "<Figure size 800x200 with 2 Axes>"
      ],
      "image/png": "[encoded data removed]"
     },
     "metadata": {},
     "output_type": "display_data"
    },
    {
     "name": "stdout",
     "output_type": "stream",
     "text": [
      "\u001B[1m1/1\u001B[0m \u001B[32m━━━━━━━━━━━━━━━━━━━━\u001B[0m\u001B[37m\u001B[0m \u001B[1m0s\u001B[0m 55ms/step\n"
     ]
    },
    {
     "name": "stderr",
     "output_type": "stream",
     "text": [
      "Clipping input data to the valid range for imshow with RGB data ([0..1] for floats or [0..255] for integers). Got range [-1.7865912..2.5668976].\n"
     ]
    },
    {
     "data": {
      "text/plain": [
       "<Figure size 800x200 with 2 Axes>"
      ],
      "image/png": "[encoded data removed]"
     },
     "metadata": {},
     "output_type": "display_data"
    }
   ],
   "execution_count": 8
  },
  {
   "metadata": {},
   "cell_type": "markdown",
   "source": [
    "The numbers in the bar chart represent:\n",
    "- 0: airplane\n",
    "- 1: automobile\n",
    "- 2: bird\n",
    "- 3: cat\n",
    "- 4: deer\n",
    "- 5: dog\n",
    "- 6: frog\n",
    "- 7: horse\n",
    "- 8: ship\n",
    "- 9: truck"
   ],
   "id": "2cc80e59ab7a5b1f"
  },
  {
   "metadata": {},
   "cell_type": "markdown",
   "source": [
    "#### Summary\n",
    "\n",
    "We used 100 epochs and an early stopping callback function, which will terminate the model fitting process when it detects overfitting. The fitting time of this heavy model with a CPU took about 2 hours. We achieved around 62% accuracy with 3.8 million parameters, while a simpler model (commented in the model code block) achieved approximately 50% accuracy with a fitting time of 2 minutes on an average CPU.\n",
    "\n",
    "Although it is possible to make an FCN model perform nearly as well as a lighter CNN model, there is no advantage to using an FCN for image datasets. CNNs are better suited for capturing spatial information, which makes them more efficient for image classification tasks.\n",
    "\n",
    "In **CNN.ipynb**, we will further explain the differences between FCN and CNN models, and why CNN is more suitable for image classification tasks."
   ],
   "id": "1b26c1b4cfb47153"
  }
 ],
 "metadata": {
  "kernelspec": {
   "display_name": "Python 3",
   "language": "python",
   "name": "python3"
  },
  "language_info": {
   "codemirror_mode": {
    "name": "ipython",
    "version": 2
   },
   "file_extension": ".py",
   "mimetype": "text/x-python",
   "name": "python",
   "nbconvert_exporter": "python",
   "pygments_lexer": "ipython2",
   "version": "2.7.6"
  }
 },
 "nbformat": 4,
 "nbformat_minor": 5
}
