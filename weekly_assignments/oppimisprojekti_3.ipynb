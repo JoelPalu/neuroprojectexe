{
 "cells": [
  {
   "metadata": {},
   "cell_type": "markdown",
   "source": [
    "# Tehtävä: Oppimisprojekti 3: Transformer-mallit\n",
    "\n",
    "Tämän projektin tavoitteena on tutustua Transformer-arkkitehtuuriin kahden erilaisen sovelluksen kautta: tekstigeneraation ja puheentunnistuksen. Projekti antaa käytännön kokemusta sekä oman mallin kouluttamisesta että esikoulutetun mallin käytöstä.\n",
    "\n",
    "Projektissa käytetty kirja [Tarzanin paluu: Seikkailukirja Afrikan aarniometsistä by Edgar Rice Burroughs](https://www.gutenberg.org/ebooks/54307)\n",
    "\n",
    "**Huom**: Koska malli on kooltaan noin 260MB, se on tallennettu Google Driveen. Tarzan malliin liittyvät tiedostot `Tarzan_best_model.keras`, `tarzan_sp.model` ja `tarzan_sp.vocab` löytyvät tästä linkistä: [tarzan_model (Google Drive)](https://drive.google.com/drive/folders/1ZOAjEPul9vBdJl1M-sv6Fqq-XiX7ZDQD?usp=sharing)\n",
    "\n",
    "- `Tarzan_best_model.keras`: Koulutettu Transformer-malli\n",
    "- `tarzan_sp.model`: SentencePiece-tokenisaattorin malli\n",
    "- `tarzan_sp.vocab`: Tokenisaattorin sanasto (ei pakollinen suorittamista varten, mutta mukana läpinäkyvyyden vuoksi)\n",
    "\n",
    "Tarkempi ohjeistus uuden session aloitukseen on generatiivisen tekstimallin lopussa."
   ],
   "id": "c931f074ed05a3f7"
  },
  {
   "metadata": {},
   "cell_type": "markdown",
   "source": [
    "### Generatiivinen tekstimalli\n",
    "\n",
    "Tekstin lataus ja valmistelu"
   ],
   "id": "d07dbcc45835b"
  },
  {
   "metadata": {
    "ExecuteTime": {
     "end_time": "2025-04-14T14:42:13.479827Z",
     "start_time": "2025-04-14T14:42:13.472927Z"
    }
   },
   "cell_type": "code",
   "source": [
    "with open('../week3_text/tarzan.txt', 'r', encoding='utf-8-sig') as file:\n",
    "    text = file.read()#.lower()\n",
    "\n",
    "print(f\"Text length: {len(text)} characters\")\n",
    "print(f\"First 100 characters: {text[:200]}\")"
   ],
   "id": "b621367863c43b48",
   "outputs": [
    {
     "name": "stdout",
     "output_type": "stream",
     "text": [
      "Text length: 528610 characters\n",
      "First 100 characters: The Project Gutenberg eBook of Tarzanin paluu: Seikkailukirja Afrikan aarniometsistä\n",
      "    \n",
      "This ebook is for the use of anyone anywhere in the United States and\n",
      "most other parts of the world at no cost\n"
     ]
    }
   ],
   "execution_count": 32
  },
  {
   "metadata": {},
   "cell_type": "markdown",
   "source": "Jotta malli ei saisi ylimääräistä melua tekijänoikeustiedoista, sisällysluetteloista tai alkuteksteistä, rajataan tekstidata vain varsinaiseen sisältöön. Tämä tehdään etsimällä haluttu aloitus- ja lopetuspiste tekstistä.",
   "id": "c5100f152f8b2137"
  },
  {
   "metadata": {
    "ExecuteTime": {
     "end_time": "2025-04-14T14:42:13.489191Z",
     "start_time": "2025-04-14T14:42:13.485834Z"
    }
   },
   "cell_type": "code",
   "source": [
    "start_marker = \"ENSIMMÄINEN LUKU\"\n",
    "end_marker = \"*** END OF THE PROJECT GUTENBERG EBOOK\"\n",
    "\n",
    "start_idx = text.find(start_marker)\n",
    "end_idx = text.find(end_marker)\n",
    "\n",
    "# Pick only the wanted parts of the text\n",
    "if start_idx != -1 and end_idx != -1:\n",
    "    text = text[start_idx + len(start_marker):end_idx]"
   ],
   "id": "55d9faba2f5bef2d",
   "outputs": [],
   "execution_count": 33
  },
  {
   "metadata": {},
   "cell_type": "markdown",
   "source": "#### Training SentencePiece model",
   "id": "4118cf3002d31850"
  },
  {
   "metadata": {
    "ExecuteTime": {
     "end_time": "2025-04-14T14:42:14.854248Z",
     "start_time": "2025-04-14T14:42:13.498503Z"
    }
   },
   "cell_type": "code",
   "source": [
    "import sentencepiece as spm\n",
    "\n",
    "# Save text to a temporary file for SentencePiece training\n",
    "temp_file = 'tarzan_temp.txt'\n",
    "with open(temp_file, 'w', encoding='utf-8') as f:\n",
    "    f.write(text)\n",
    "\n",
    "# Train SentencePiece model\n",
    "vocab_size = 40000\n",
    "model_prefix = 'tarzan_sp'\n",
    "\n",
    "spm.SentencePieceTrainer.train(\n",
    "    input=temp_file,\n",
    "    model_prefix=model_prefix,\n",
    "    vocab_size=vocab_size,\n",
    "    character_coverage=1.0,\n",
    "    model_type='bpe',\n",
    "    user_defined_symbols=['<PAD>', '<UNK>']\n",
    ")\n",
    "\n",
    "# Load the trained tokenizer\n",
    "sp = spm.SentencePieceProcessor()\n",
    "sp.load(f\"{model_prefix}.model\")\n",
    "\n",
    "# Test tokenization\n",
    "test_text = \"Tarzan Jane peto\"\n",
    "tokens = sp.encode_as_pieces(test_text)\n",
    "print(f\"Tokenized example: {tokens}\")\n",
    "print(f\"Vocabulary size: {sp.get_piece_size()}\")"
   ],
   "id": "42f9909bfce4aac8",
   "outputs": [
    {
     "name": "stdout",
     "output_type": "stream",
     "text": [
      "Tokenized example: ['▁Tarzan', '▁Jane', '▁peto']\n",
      "Vocabulary size: 40000\n"
     ]
    }
   ],
   "execution_count": 34
  },
  {
   "metadata": {},
   "cell_type": "markdown",
   "source": "#### Preparing the training data",
   "id": "fcb457417aa4aa75"
  },
  {
   "metadata": {
    "ExecuteTime": {
     "end_time": "2025-04-14T14:42:15.596502Z",
     "start_time": "2025-04-14T14:42:14.862632Z"
    }
   },
   "cell_type": "code",
   "source": [
    "import numpy as np\n",
    "\n",
    "# Tokenize the text\n",
    "seq_length = 64\n",
    "pieces = sp.encode_as_ids(text)\n",
    "print(f\"Total tokens: {len(pieces)}\")\n",
    "\n",
    "# Create sequences\n",
    "sequences = []\n",
    "for i in range(0, len(pieces) - seq_length):\n",
    "    # Input: first seq_length tokens, Target: next seq_length tokens (shifted by 1)\n",
    "    sequences.append(pieces[i:i+seq_length+1])\n",
    "\n",
    "# Convert to NumPy arrays\n",
    "sequences = np.array(sequences)\n",
    "inputs = sequences[:, :-1]  # All tokens except the last one\n",
    "targets = sequences[:, 1:]  # All tokens except the first one\n",
    "\n",
    "print(f\"Number of sequences: {len(sequences)}\")\n",
    "print(f\"Input shape: {inputs.shape}\")\n",
    "print(f\"Target shape: {targets.shape}\")\n",
    "\n",
    "# Split into training and validation sets\n",
    "indices = np.arange(len(sequences))\n",
    "np.random.shuffle(indices)\n",
    "\n",
    "train_size = int(0.8 * len(sequences))\n",
    "train_indices = indices[:train_size]\n",
    "val_indices = indices[train_size:]\n",
    "\n",
    "train_inputs, train_targets = inputs[train_indices], targets[train_indices]\n",
    "val_inputs, val_targets = inputs[val_indices], targets[val_indices]"
   ],
   "id": "c2d5dc10405e175e",
   "outputs": [
    {
     "name": "stdout",
     "output_type": "stream",
     "text": [
      "Total tokens: 77710\n",
      "Number of sequences: 77646\n",
      "Input shape: (77646, 64)\n",
      "Target shape: (77646, 64)\n"
     ]
    }
   ],
   "execution_count": 35
  },
  {
   "metadata": {},
   "cell_type": "markdown",
   "source": "#### Defining the model",
   "id": "256f9ae33c0e5595"
  },
  {
   "metadata": {
    "ExecuteTime": {
     "end_time": "2025-04-14T14:42:15.751944Z",
     "start_time": "2025-04-14T14:42:15.605315Z"
    }
   },
   "cell_type": "code",
   "source": [
    "import keras\n",
    "\n",
    "def get_positional_encoding(max_len, d_model):\n",
    "    \"\"\"Create sinusoidal positional encoding.\"\"\"\n",
    "    positions = np.arange(max_len)[:, np.newaxis]\n",
    "    angles = np.arange(d_model)[np.newaxis, :] / d_model\n",
    "    angles = 1 / (10000**angles)\n",
    "\n",
    "    pos_encoding = positions * angles\n",
    "    pos_encoding[:, 0::2] = np.sin(pos_encoding[:, 0::2])\n",
    "    pos_encoding[:, 1::2] = np.cos(pos_encoding[:, 1::2])\n",
    "\n",
    "    return pos_encoding\n",
    "\n",
    "# Define model parameters\n",
    "embed_dim = 256\n",
    "num_heads = 4\n",
    "ff_dim = 512\n",
    "num_layers = 3\n",
    "\n",
    "# Create the model\n",
    "inputs = keras.Input(shape=(seq_length,))\n",
    "embedding_layer = keras.layers.Embedding(sp.get_piece_size(), embed_dim)(inputs)\n",
    "\n",
    "# Add positional encoding\n",
    "pos_encoding = get_positional_encoding(seq_length, embed_dim)\n",
    "x = embedding_layer + pos_encoding\n",
    "\n",
    "# Helper function to create causal attention mask\n",
    "def create_causal_mask(size):\n",
    "    \"\"\"Create a causal attention mask to prevent looking at future tokens.\"\"\"\n",
    "    mask = 1 - np.triu(np.ones((size, size)), k=1)\n",
    "    return mask  # Lower triangular matrix\n",
    "\n",
    "# Transformer blocks\n",
    "for _ in range(num_layers):\n",
    "    # Multi-head attention with causal mask\n",
    "    # Manually create causal mask since use_causal_mask parameter isn't available\n",
    "    causal_mask = create_causal_mask(seq_length)\n",
    "\n",
    "    # Apply attention with manual causal mask\n",
    "    attention_output = keras.layers.MultiHeadAttention(\n",
    "        num_heads=num_heads,\n",
    "        key_dim=embed_dim // num_heads\n",
    "    )(x, x, attention_mask=causal_mask)\n",
    "\n",
    "    # Add & Norm\n",
    "    x = keras.layers.LayerNormalization(epsilon=1e-6)(x + attention_output)\n",
    "\n",
    "    # Feed-forward network\n",
    "    ffn = keras.Sequential([\n",
    "        keras.layers.Dense(ff_dim, activation=\"relu\"),\n",
    "        keras.layers.Dense(embed_dim),\n",
    "        keras.layers.Dropout(0.1)\n",
    "    ])\n",
    "    ffn_output = ffn(x)\n",
    "\n",
    "    # Add & Norm\n",
    "    x = keras.layers.LayerNormalization(epsilon=1e-6)(x + ffn_output)\n",
    "\n",
    "# Final output layer\n",
    "outputs = keras.layers.Dense(sp.get_piece_size())(x)\n",
    "\n",
    "# Create model\n",
    "model = keras.Model(inputs=inputs, outputs=outputs)\n",
    "\n",
    "# Compile model\n",
    "model.compile(\n",
    "    optimizer=keras.optimizers.Adam(learning_rate=3e-4),\n",
    "    loss=keras.losses.SparseCategoricalCrossentropy(from_logits=True),\n",
    "    metrics=['accuracy']\n",
    ")\n",
    "\n",
    "model.summary()"
   ],
   "id": "72c656c531817c6b",
   "outputs": [
    {
     "data": {
      "text/plain": [
       "\u001B[1mModel: \"functional_11\"\u001B[0m\n"
      ],
      "text/html": [
       "<pre style=\"white-space:pre;overflow-x:auto;line-height:normal;font-family:Menlo,'DejaVu Sans Mono',consolas,'Courier New',monospace\"><span style=\"font-weight: bold\">Model: \"functional_11\"</span>\n",
       "</pre>\n"
      ]
     },
     "metadata": {},
     "output_type": "display_data"
    },
    {
     "data": {
      "text/plain": [
       "┏━━━━━━━━━━━━━━━━━━━━━┳━━━━━━━━━━━━━━━━━━━┳━━━━━━━━━━━━┳━━━━━━━━━━━━━━━━━━━┓\n",
       "┃\u001B[1m \u001B[0m\u001B[1mLayer (type)       \u001B[0m\u001B[1m \u001B[0m┃\u001B[1m \u001B[0m\u001B[1mOutput Shape     \u001B[0m\u001B[1m \u001B[0m┃\u001B[1m \u001B[0m\u001B[1m   Param #\u001B[0m\u001B[1m \u001B[0m┃\u001B[1m \u001B[0m\u001B[1mConnected to     \u001B[0m\u001B[1m \u001B[0m┃\n",
       "┡━━━━━━━━━━━━━━━━━━━━━╇━━━━━━━━━━━━━━━━━━━╇━━━━━━━━━━━━╇━━━━━━━━━━━━━━━━━━━┩\n",
       "│ input_layer_8       │ (\u001B[38;5;45mNone\u001B[0m, \u001B[38;5;34m64\u001B[0m)        │          \u001B[38;5;34m0\u001B[0m │ -                 │\n",
       "│ (\u001B[38;5;33mInputLayer\u001B[0m)        │                   │            │                   │\n",
       "├─────────────────────┼───────────────────┼────────────┼───────────────────┤\n",
       "│ embedding_2         │ (\u001B[38;5;45mNone\u001B[0m, \u001B[38;5;34m64\u001B[0m, \u001B[38;5;34m256\u001B[0m)   │ \u001B[38;5;34m10,240,000\u001B[0m │ input_layer_8[\u001B[38;5;34m0\u001B[0m]… │\n",
       "│ (\u001B[38;5;33mEmbedding\u001B[0m)         │                   │            │                   │\n",
       "├─────────────────────┼───────────────────┼────────────┼───────────────────┤\n",
       "│ add_14 (\u001B[38;5;33mAdd\u001B[0m)        │ (\u001B[38;5;45mNone\u001B[0m, \u001B[38;5;34m64\u001B[0m, \u001B[38;5;34m256\u001B[0m)   │          \u001B[38;5;34m0\u001B[0m │ embedding_2[\u001B[38;5;34m0\u001B[0m][\u001B[38;5;34m0\u001B[0m] │\n",
       "├─────────────────────┼───────────────────┼────────────┼───────────────────┤\n",
       "│ cast_4 (\u001B[38;5;33mCast\u001B[0m)       │ (\u001B[38;5;45mNone\u001B[0m, \u001B[38;5;34m64\u001B[0m, \u001B[38;5;34m256\u001B[0m)   │          \u001B[38;5;34m0\u001B[0m │ add_14[\u001B[38;5;34m0\u001B[0m][\u001B[38;5;34m0\u001B[0m]      │\n",
       "├─────────────────────┼───────────────────┼────────────┼───────────────────┤\n",
       "│ cast_5 (\u001B[38;5;33mCast\u001B[0m)       │ (\u001B[38;5;45mNone\u001B[0m, \u001B[38;5;34m64\u001B[0m, \u001B[38;5;34m256\u001B[0m)   │          \u001B[38;5;34m0\u001B[0m │ add_14[\u001B[38;5;34m0\u001B[0m][\u001B[38;5;34m0\u001B[0m]      │\n",
       "├─────────────────────┼───────────────────┼────────────┼───────────────────┤\n",
       "│ multi_head_attenti… │ (\u001B[38;5;45mNone\u001B[0m, \u001B[38;5;34m64\u001B[0m, \u001B[38;5;34m256\u001B[0m)   │    \u001B[38;5;34m263,168\u001B[0m │ cast_4[\u001B[38;5;34m0\u001B[0m][\u001B[38;5;34m0\u001B[0m],     │\n",
       "│ (\u001B[38;5;33mMultiHeadAttentio…\u001B[0m │                   │            │ cast_5[\u001B[38;5;34m0\u001B[0m][\u001B[38;5;34m0\u001B[0m]      │\n",
       "├─────────────────────┼───────────────────┼────────────┼───────────────────┤\n",
       "│ add_15 (\u001B[38;5;33mAdd\u001B[0m)        │ (\u001B[38;5;45mNone\u001B[0m, \u001B[38;5;34m64\u001B[0m, \u001B[38;5;34m256\u001B[0m)   │          \u001B[38;5;34m0\u001B[0m │ add_14[\u001B[38;5;34m0\u001B[0m][\u001B[38;5;34m0\u001B[0m],     │\n",
       "│                     │                   │            │ multi_head_atten… │\n",
       "├─────────────────────┼───────────────────┼────────────┼───────────────────┤\n",
       "│ layer_normalizatio… │ (\u001B[38;5;45mNone\u001B[0m, \u001B[38;5;34m64\u001B[0m, \u001B[38;5;34m256\u001B[0m)   │        \u001B[38;5;34m512\u001B[0m │ add_15[\u001B[38;5;34m0\u001B[0m][\u001B[38;5;34m0\u001B[0m]      │\n",
       "│ (\u001B[38;5;33mLayerNormalizatio…\u001B[0m │                   │            │                   │\n",
       "├─────────────────────┼───────────────────┼────────────┼───────────────────┤\n",
       "│ sequential_6        │ (\u001B[38;5;45mNone\u001B[0m, \u001B[38;5;34m64\u001B[0m, \u001B[38;5;34m256\u001B[0m)   │    \u001B[38;5;34m262,912\u001B[0m │ layer_normalizat… │\n",
       "│ (\u001B[38;5;33mSequential\u001B[0m)        │                   │            │                   │\n",
       "├─────────────────────┼───────────────────┼────────────┼───────────────────┤\n",
       "│ add_16 (\u001B[38;5;33mAdd\u001B[0m)        │ (\u001B[38;5;45mNone\u001B[0m, \u001B[38;5;34m64\u001B[0m, \u001B[38;5;34m256\u001B[0m)   │          \u001B[38;5;34m0\u001B[0m │ layer_normalizat… │\n",
       "│                     │                   │            │ sequential_6[\u001B[38;5;34m0\u001B[0m][\u001B[38;5;34m…\u001B[0m │\n",
       "├─────────────────────┼───────────────────┼────────────┼───────────────────┤\n",
       "│ layer_normalizatio… │ (\u001B[38;5;45mNone\u001B[0m, \u001B[38;5;34m64\u001B[0m, \u001B[38;5;34m256\u001B[0m)   │        \u001B[38;5;34m512\u001B[0m │ add_16[\u001B[38;5;34m0\u001B[0m][\u001B[38;5;34m0\u001B[0m]      │\n",
       "│ (\u001B[38;5;33mLayerNormalizatio…\u001B[0m │                   │            │                   │\n",
       "├─────────────────────┼───────────────────┼────────────┼───────────────────┤\n",
       "│ multi_head_attenti… │ (\u001B[38;5;45mNone\u001B[0m, \u001B[38;5;34m64\u001B[0m, \u001B[38;5;34m256\u001B[0m)   │    \u001B[38;5;34m263,168\u001B[0m │ layer_normalizat… │\n",
       "│ (\u001B[38;5;33mMultiHeadAttentio…\u001B[0m │                   │            │ layer_normalizat… │\n",
       "├─────────────────────┼───────────────────┼────────────┼───────────────────┤\n",
       "│ add_17 (\u001B[38;5;33mAdd\u001B[0m)        │ (\u001B[38;5;45mNone\u001B[0m, \u001B[38;5;34m64\u001B[0m, \u001B[38;5;34m256\u001B[0m)   │          \u001B[38;5;34m0\u001B[0m │ layer_normalizat… │\n",
       "│                     │                   │            │ multi_head_atten… │\n",
       "├─────────────────────┼───────────────────┼────────────┼───────────────────┤\n",
       "│ layer_normalizatio… │ (\u001B[38;5;45mNone\u001B[0m, \u001B[38;5;34m64\u001B[0m, \u001B[38;5;34m256\u001B[0m)   │        \u001B[38;5;34m512\u001B[0m │ add_17[\u001B[38;5;34m0\u001B[0m][\u001B[38;5;34m0\u001B[0m]      │\n",
       "│ (\u001B[38;5;33mLayerNormalizatio…\u001B[0m │                   │            │                   │\n",
       "├─────────────────────┼───────────────────┼────────────┼───────────────────┤\n",
       "│ sequential_7        │ (\u001B[38;5;45mNone\u001B[0m, \u001B[38;5;34m64\u001B[0m, \u001B[38;5;34m256\u001B[0m)   │    \u001B[38;5;34m262,912\u001B[0m │ layer_normalizat… │\n",
       "│ (\u001B[38;5;33mSequential\u001B[0m)        │                   │            │                   │\n",
       "├─────────────────────┼───────────────────┼────────────┼───────────────────┤\n",
       "│ add_18 (\u001B[38;5;33mAdd\u001B[0m)        │ (\u001B[38;5;45mNone\u001B[0m, \u001B[38;5;34m64\u001B[0m, \u001B[38;5;34m256\u001B[0m)   │          \u001B[38;5;34m0\u001B[0m │ layer_normalizat… │\n",
       "│                     │                   │            │ sequential_7[\u001B[38;5;34m0\u001B[0m][\u001B[38;5;34m…\u001B[0m │\n",
       "├─────────────────────┼───────────────────┼────────────┼───────────────────┤\n",
       "│ layer_normalizatio… │ (\u001B[38;5;45mNone\u001B[0m, \u001B[38;5;34m64\u001B[0m, \u001B[38;5;34m256\u001B[0m)   │        \u001B[38;5;34m512\u001B[0m │ add_18[\u001B[38;5;34m0\u001B[0m][\u001B[38;5;34m0\u001B[0m]      │\n",
       "│ (\u001B[38;5;33mLayerNormalizatio…\u001B[0m │                   │            │                   │\n",
       "├─────────────────────┼───────────────────┼────────────┼───────────────────┤\n",
       "│ multi_head_attenti… │ (\u001B[38;5;45mNone\u001B[0m, \u001B[38;5;34m64\u001B[0m, \u001B[38;5;34m256\u001B[0m)   │    \u001B[38;5;34m263,168\u001B[0m │ layer_normalizat… │\n",
       "│ (\u001B[38;5;33mMultiHeadAttentio…\u001B[0m │                   │            │ layer_normalizat… │\n",
       "├─────────────────────┼───────────────────┼────────────┼───────────────────┤\n",
       "│ add_19 (\u001B[38;5;33mAdd\u001B[0m)        │ (\u001B[38;5;45mNone\u001B[0m, \u001B[38;5;34m64\u001B[0m, \u001B[38;5;34m256\u001B[0m)   │          \u001B[38;5;34m0\u001B[0m │ layer_normalizat… │\n",
       "│                     │                   │            │ multi_head_atten… │\n",
       "├─────────────────────┼───────────────────┼────────────┼───────────────────┤\n",
       "│ layer_normalizatio… │ (\u001B[38;5;45mNone\u001B[0m, \u001B[38;5;34m64\u001B[0m, \u001B[38;5;34m256\u001B[0m)   │        \u001B[38;5;34m512\u001B[0m │ add_19[\u001B[38;5;34m0\u001B[0m][\u001B[38;5;34m0\u001B[0m]      │\n",
       "│ (\u001B[38;5;33mLayerNormalizatio…\u001B[0m │                   │            │                   │\n",
       "├─────────────────────┼───────────────────┼────────────┼───────────────────┤\n",
       "│ sequential_8        │ (\u001B[38;5;45mNone\u001B[0m, \u001B[38;5;34m64\u001B[0m, \u001B[38;5;34m256\u001B[0m)   │    \u001B[38;5;34m262,912\u001B[0m │ layer_normalizat… │\n",
       "│ (\u001B[38;5;33mSequential\u001B[0m)        │                   │            │                   │\n",
       "├─────────────────────┼───────────────────┼────────────┼───────────────────┤\n",
       "│ add_20 (\u001B[38;5;33mAdd\u001B[0m)        │ (\u001B[38;5;45mNone\u001B[0m, \u001B[38;5;34m64\u001B[0m, \u001B[38;5;34m256\u001B[0m)   │          \u001B[38;5;34m0\u001B[0m │ layer_normalizat… │\n",
       "│                     │                   │            │ sequential_8[\u001B[38;5;34m0\u001B[0m][\u001B[38;5;34m…\u001B[0m │\n",
       "├─────────────────────┼───────────────────┼────────────┼───────────────────┤\n",
       "│ layer_normalizatio… │ (\u001B[38;5;45mNone\u001B[0m, \u001B[38;5;34m64\u001B[0m, \u001B[38;5;34m256\u001B[0m)   │        \u001B[38;5;34m512\u001B[0m │ add_20[\u001B[38;5;34m0\u001B[0m][\u001B[38;5;34m0\u001B[0m]      │\n",
       "│ (\u001B[38;5;33mLayerNormalizatio…\u001B[0m │                   │            │                   │\n",
       "├─────────────────────┼───────────────────┼────────────┼───────────────────┤\n",
       "│ dense_20 (\u001B[38;5;33mDense\u001B[0m)    │ (\u001B[38;5;45mNone\u001B[0m, \u001B[38;5;34m64\u001B[0m, \u001B[38;5;34m40000\u001B[0m) │ \u001B[38;5;34m10,280,000\u001B[0m │ layer_normalizat… │\n",
       "└─────────────────────┴───────────────────┴────────────┴───────────────────┘\n"
      ],
      "text/html": [
       "<pre style=\"white-space:pre;overflow-x:auto;line-height:normal;font-family:Menlo,'DejaVu Sans Mono',consolas,'Courier New',monospace\">┏━━━━━━━━━━━━━━━━━━━━━┳━━━━━━━━━━━━━━━━━━━┳━━━━━━━━━━━━┳━━━━━━━━━━━━━━━━━━━┓\n",
       "┃<span style=\"font-weight: bold\"> Layer (type)        </span>┃<span style=\"font-weight: bold\"> Output Shape      </span>┃<span style=\"font-weight: bold\">    Param # </span>┃<span style=\"font-weight: bold\"> Connected to      </span>┃\n",
       "┡━━━━━━━━━━━━━━━━━━━━━╇━━━━━━━━━━━━━━━━━━━╇━━━━━━━━━━━━╇━━━━━━━━━━━━━━━━━━━┩\n",
       "│ input_layer_8       │ (<span style=\"color: #00d7ff; text-decoration-color: #00d7ff\">None</span>, <span style=\"color: #00af00; text-decoration-color: #00af00\">64</span>)        │          <span style=\"color: #00af00; text-decoration-color: #00af00\">0</span> │ -                 │\n",
       "│ (<span style=\"color: #0087ff; text-decoration-color: #0087ff\">InputLayer</span>)        │                   │            │                   │\n",
       "├─────────────────────┼───────────────────┼────────────┼───────────────────┤\n",
       "│ embedding_2         │ (<span style=\"color: #00d7ff; text-decoration-color: #00d7ff\">None</span>, <span style=\"color: #00af00; text-decoration-color: #00af00\">64</span>, <span style=\"color: #00af00; text-decoration-color: #00af00\">256</span>)   │ <span style=\"color: #00af00; text-decoration-color: #00af00\">10,240,000</span> │ input_layer_8[<span style=\"color: #00af00; text-decoration-color: #00af00\">0</span>]… │\n",
       "│ (<span style=\"color: #0087ff; text-decoration-color: #0087ff\">Embedding</span>)         │                   │            │                   │\n",
       "├─────────────────────┼───────────────────┼────────────┼───────────────────┤\n",
       "│ add_14 (<span style=\"color: #0087ff; text-decoration-color: #0087ff\">Add</span>)        │ (<span style=\"color: #00d7ff; text-decoration-color: #00d7ff\">None</span>, <span style=\"color: #00af00; text-decoration-color: #00af00\">64</span>, <span style=\"color: #00af00; text-decoration-color: #00af00\">256</span>)   │          <span style=\"color: #00af00; text-decoration-color: #00af00\">0</span> │ embedding_2[<span style=\"color: #00af00; text-decoration-color: #00af00\">0</span>][<span style=\"color: #00af00; text-decoration-color: #00af00\">0</span>] │\n",
       "├─────────────────────┼───────────────────┼────────────┼───────────────────┤\n",
       "│ cast_4 (<span style=\"color: #0087ff; text-decoration-color: #0087ff\">Cast</span>)       │ (<span style=\"color: #00d7ff; text-decoration-color: #00d7ff\">None</span>, <span style=\"color: #00af00; text-decoration-color: #00af00\">64</span>, <span style=\"color: #00af00; text-decoration-color: #00af00\">256</span>)   │          <span style=\"color: #00af00; text-decoration-color: #00af00\">0</span> │ add_14[<span style=\"color: #00af00; text-decoration-color: #00af00\">0</span>][<span style=\"color: #00af00; text-decoration-color: #00af00\">0</span>]      │\n",
       "├─────────────────────┼───────────────────┼────────────┼───────────────────┤\n",
       "│ cast_5 (<span style=\"color: #0087ff; text-decoration-color: #0087ff\">Cast</span>)       │ (<span style=\"color: #00d7ff; text-decoration-color: #00d7ff\">None</span>, <span style=\"color: #00af00; text-decoration-color: #00af00\">64</span>, <span style=\"color: #00af00; text-decoration-color: #00af00\">256</span>)   │          <span style=\"color: #00af00; text-decoration-color: #00af00\">0</span> │ add_14[<span style=\"color: #00af00; text-decoration-color: #00af00\">0</span>][<span style=\"color: #00af00; text-decoration-color: #00af00\">0</span>]      │\n",
       "├─────────────────────┼───────────────────┼────────────┼───────────────────┤\n",
       "│ multi_head_attenti… │ (<span style=\"color: #00d7ff; text-decoration-color: #00d7ff\">None</span>, <span style=\"color: #00af00; text-decoration-color: #00af00\">64</span>, <span style=\"color: #00af00; text-decoration-color: #00af00\">256</span>)   │    <span style=\"color: #00af00; text-decoration-color: #00af00\">263,168</span> │ cast_4[<span style=\"color: #00af00; text-decoration-color: #00af00\">0</span>][<span style=\"color: #00af00; text-decoration-color: #00af00\">0</span>],     │\n",
       "│ (<span style=\"color: #0087ff; text-decoration-color: #0087ff\">MultiHeadAttentio…</span> │                   │            │ cast_5[<span style=\"color: #00af00; text-decoration-color: #00af00\">0</span>][<span style=\"color: #00af00; text-decoration-color: #00af00\">0</span>]      │\n",
       "├─────────────────────┼───────────────────┼────────────┼───────────────────┤\n",
       "│ add_15 (<span style=\"color: #0087ff; text-decoration-color: #0087ff\">Add</span>)        │ (<span style=\"color: #00d7ff; text-decoration-color: #00d7ff\">None</span>, <span style=\"color: #00af00; text-decoration-color: #00af00\">64</span>, <span style=\"color: #00af00; text-decoration-color: #00af00\">256</span>)   │          <span style=\"color: #00af00; text-decoration-color: #00af00\">0</span> │ add_14[<span style=\"color: #00af00; text-decoration-color: #00af00\">0</span>][<span style=\"color: #00af00; text-decoration-color: #00af00\">0</span>],     │\n",
       "│                     │                   │            │ multi_head_atten… │\n",
       "├─────────────────────┼───────────────────┼────────────┼───────────────────┤\n",
       "│ layer_normalizatio… │ (<span style=\"color: #00d7ff; text-decoration-color: #00d7ff\">None</span>, <span style=\"color: #00af00; text-decoration-color: #00af00\">64</span>, <span style=\"color: #00af00; text-decoration-color: #00af00\">256</span>)   │        <span style=\"color: #00af00; text-decoration-color: #00af00\">512</span> │ add_15[<span style=\"color: #00af00; text-decoration-color: #00af00\">0</span>][<span style=\"color: #00af00; text-decoration-color: #00af00\">0</span>]      │\n",
       "│ (<span style=\"color: #0087ff; text-decoration-color: #0087ff\">LayerNormalizatio…</span> │                   │            │                   │\n",
       "├─────────────────────┼───────────────────┼────────────┼───────────────────┤\n",
       "│ sequential_6        │ (<span style=\"color: #00d7ff; text-decoration-color: #00d7ff\">None</span>, <span style=\"color: #00af00; text-decoration-color: #00af00\">64</span>, <span style=\"color: #00af00; text-decoration-color: #00af00\">256</span>)   │    <span style=\"color: #00af00; text-decoration-color: #00af00\">262,912</span> │ layer_normalizat… │\n",
       "│ (<span style=\"color: #0087ff; text-decoration-color: #0087ff\">Sequential</span>)        │                   │            │                   │\n",
       "├─────────────────────┼───────────────────┼────────────┼───────────────────┤\n",
       "│ add_16 (<span style=\"color: #0087ff; text-decoration-color: #0087ff\">Add</span>)        │ (<span style=\"color: #00d7ff; text-decoration-color: #00d7ff\">None</span>, <span style=\"color: #00af00; text-decoration-color: #00af00\">64</span>, <span style=\"color: #00af00; text-decoration-color: #00af00\">256</span>)   │          <span style=\"color: #00af00; text-decoration-color: #00af00\">0</span> │ layer_normalizat… │\n",
       "│                     │                   │            │ sequential_6[<span style=\"color: #00af00; text-decoration-color: #00af00\">0</span>][<span style=\"color: #00af00; text-decoration-color: #00af00\">…</span> │\n",
       "├─────────────────────┼───────────────────┼────────────┼───────────────────┤\n",
       "│ layer_normalizatio… │ (<span style=\"color: #00d7ff; text-decoration-color: #00d7ff\">None</span>, <span style=\"color: #00af00; text-decoration-color: #00af00\">64</span>, <span style=\"color: #00af00; text-decoration-color: #00af00\">256</span>)   │        <span style=\"color: #00af00; text-decoration-color: #00af00\">512</span> │ add_16[<span style=\"color: #00af00; text-decoration-color: #00af00\">0</span>][<span style=\"color: #00af00; text-decoration-color: #00af00\">0</span>]      │\n",
       "│ (<span style=\"color: #0087ff; text-decoration-color: #0087ff\">LayerNormalizatio…</span> │                   │            │                   │\n",
       "├─────────────────────┼───────────────────┼────────────┼───────────────────┤\n",
       "│ multi_head_attenti… │ (<span style=\"color: #00d7ff; text-decoration-color: #00d7ff\">None</span>, <span style=\"color: #00af00; text-decoration-color: #00af00\">64</span>, <span style=\"color: #00af00; text-decoration-color: #00af00\">256</span>)   │    <span style=\"color: #00af00; text-decoration-color: #00af00\">263,168</span> │ layer_normalizat… │\n",
       "│ (<span style=\"color: #0087ff; text-decoration-color: #0087ff\">MultiHeadAttentio…</span> │                   │            │ layer_normalizat… │\n",
       "├─────────────────────┼───────────────────┼────────────┼───────────────────┤\n",
       "│ add_17 (<span style=\"color: #0087ff; text-decoration-color: #0087ff\">Add</span>)        │ (<span style=\"color: #00d7ff; text-decoration-color: #00d7ff\">None</span>, <span style=\"color: #00af00; text-decoration-color: #00af00\">64</span>, <span style=\"color: #00af00; text-decoration-color: #00af00\">256</span>)   │          <span style=\"color: #00af00; text-decoration-color: #00af00\">0</span> │ layer_normalizat… │\n",
       "│                     │                   │            │ multi_head_atten… │\n",
       "├─────────────────────┼───────────────────┼────────────┼───────────────────┤\n",
       "│ layer_normalizatio… │ (<span style=\"color: #00d7ff; text-decoration-color: #00d7ff\">None</span>, <span style=\"color: #00af00; text-decoration-color: #00af00\">64</span>, <span style=\"color: #00af00; text-decoration-color: #00af00\">256</span>)   │        <span style=\"color: #00af00; text-decoration-color: #00af00\">512</span> │ add_17[<span style=\"color: #00af00; text-decoration-color: #00af00\">0</span>][<span style=\"color: #00af00; text-decoration-color: #00af00\">0</span>]      │\n",
       "│ (<span style=\"color: #0087ff; text-decoration-color: #0087ff\">LayerNormalizatio…</span> │                   │            │                   │\n",
       "├─────────────────────┼───────────────────┼────────────┼───────────────────┤\n",
       "│ sequential_7        │ (<span style=\"color: #00d7ff; text-decoration-color: #00d7ff\">None</span>, <span style=\"color: #00af00; text-decoration-color: #00af00\">64</span>, <span style=\"color: #00af00; text-decoration-color: #00af00\">256</span>)   │    <span style=\"color: #00af00; text-decoration-color: #00af00\">262,912</span> │ layer_normalizat… │\n",
       "│ (<span style=\"color: #0087ff; text-decoration-color: #0087ff\">Sequential</span>)        │                   │            │                   │\n",
       "├─────────────────────┼───────────────────┼────────────┼───────────────────┤\n",
       "│ add_18 (<span style=\"color: #0087ff; text-decoration-color: #0087ff\">Add</span>)        │ (<span style=\"color: #00d7ff; text-decoration-color: #00d7ff\">None</span>, <span style=\"color: #00af00; text-decoration-color: #00af00\">64</span>, <span style=\"color: #00af00; text-decoration-color: #00af00\">256</span>)   │          <span style=\"color: #00af00; text-decoration-color: #00af00\">0</span> │ layer_normalizat… │\n",
       "│                     │                   │            │ sequential_7[<span style=\"color: #00af00; text-decoration-color: #00af00\">0</span>][<span style=\"color: #00af00; text-decoration-color: #00af00\">…</span> │\n",
       "├─────────────────────┼───────────────────┼────────────┼───────────────────┤\n",
       "│ layer_normalizatio… │ (<span style=\"color: #00d7ff; text-decoration-color: #00d7ff\">None</span>, <span style=\"color: #00af00; text-decoration-color: #00af00\">64</span>, <span style=\"color: #00af00; text-decoration-color: #00af00\">256</span>)   │        <span style=\"color: #00af00; text-decoration-color: #00af00\">512</span> │ add_18[<span style=\"color: #00af00; text-decoration-color: #00af00\">0</span>][<span style=\"color: #00af00; text-decoration-color: #00af00\">0</span>]      │\n",
       "│ (<span style=\"color: #0087ff; text-decoration-color: #0087ff\">LayerNormalizatio…</span> │                   │            │                   │\n",
       "├─────────────────────┼───────────────────┼────────────┼───────────────────┤\n",
       "│ multi_head_attenti… │ (<span style=\"color: #00d7ff; text-decoration-color: #00d7ff\">None</span>, <span style=\"color: #00af00; text-decoration-color: #00af00\">64</span>, <span style=\"color: #00af00; text-decoration-color: #00af00\">256</span>)   │    <span style=\"color: #00af00; text-decoration-color: #00af00\">263,168</span> │ layer_normalizat… │\n",
       "│ (<span style=\"color: #0087ff; text-decoration-color: #0087ff\">MultiHeadAttentio…</span> │                   │            │ layer_normalizat… │\n",
       "├─────────────────────┼───────────────────┼────────────┼───────────────────┤\n",
       "│ add_19 (<span style=\"color: #0087ff; text-decoration-color: #0087ff\">Add</span>)        │ (<span style=\"color: #00d7ff; text-decoration-color: #00d7ff\">None</span>, <span style=\"color: #00af00; text-decoration-color: #00af00\">64</span>, <span style=\"color: #00af00; text-decoration-color: #00af00\">256</span>)   │          <span style=\"color: #00af00; text-decoration-color: #00af00\">0</span> │ layer_normalizat… │\n",
       "│                     │                   │            │ multi_head_atten… │\n",
       "├─────────────────────┼───────────────────┼────────────┼───────────────────┤\n",
       "│ layer_normalizatio… │ (<span style=\"color: #00d7ff; text-decoration-color: #00d7ff\">None</span>, <span style=\"color: #00af00; text-decoration-color: #00af00\">64</span>, <span style=\"color: #00af00; text-decoration-color: #00af00\">256</span>)   │        <span style=\"color: #00af00; text-decoration-color: #00af00\">512</span> │ add_19[<span style=\"color: #00af00; text-decoration-color: #00af00\">0</span>][<span style=\"color: #00af00; text-decoration-color: #00af00\">0</span>]      │\n",
       "│ (<span style=\"color: #0087ff; text-decoration-color: #0087ff\">LayerNormalizatio…</span> │                   │            │                   │\n",
       "├─────────────────────┼───────────────────┼────────────┼───────────────────┤\n",
       "│ sequential_8        │ (<span style=\"color: #00d7ff; text-decoration-color: #00d7ff\">None</span>, <span style=\"color: #00af00; text-decoration-color: #00af00\">64</span>, <span style=\"color: #00af00; text-decoration-color: #00af00\">256</span>)   │    <span style=\"color: #00af00; text-decoration-color: #00af00\">262,912</span> │ layer_normalizat… │\n",
       "│ (<span style=\"color: #0087ff; text-decoration-color: #0087ff\">Sequential</span>)        │                   │            │                   │\n",
       "├─────────────────────┼───────────────────┼────────────┼───────────────────┤\n",
       "│ add_20 (<span style=\"color: #0087ff; text-decoration-color: #0087ff\">Add</span>)        │ (<span style=\"color: #00d7ff; text-decoration-color: #00d7ff\">None</span>, <span style=\"color: #00af00; text-decoration-color: #00af00\">64</span>, <span style=\"color: #00af00; text-decoration-color: #00af00\">256</span>)   │          <span style=\"color: #00af00; text-decoration-color: #00af00\">0</span> │ layer_normalizat… │\n",
       "│                     │                   │            │ sequential_8[<span style=\"color: #00af00; text-decoration-color: #00af00\">0</span>][<span style=\"color: #00af00; text-decoration-color: #00af00\">…</span> │\n",
       "├─────────────────────┼───────────────────┼────────────┼───────────────────┤\n",
       "│ layer_normalizatio… │ (<span style=\"color: #00d7ff; text-decoration-color: #00d7ff\">None</span>, <span style=\"color: #00af00; text-decoration-color: #00af00\">64</span>, <span style=\"color: #00af00; text-decoration-color: #00af00\">256</span>)   │        <span style=\"color: #00af00; text-decoration-color: #00af00\">512</span> │ add_20[<span style=\"color: #00af00; text-decoration-color: #00af00\">0</span>][<span style=\"color: #00af00; text-decoration-color: #00af00\">0</span>]      │\n",
       "│ (<span style=\"color: #0087ff; text-decoration-color: #0087ff\">LayerNormalizatio…</span> │                   │            │                   │\n",
       "├─────────────────────┼───────────────────┼────────────┼───────────────────┤\n",
       "│ dense_20 (<span style=\"color: #0087ff; text-decoration-color: #0087ff\">Dense</span>)    │ (<span style=\"color: #00d7ff; text-decoration-color: #00d7ff\">None</span>, <span style=\"color: #00af00; text-decoration-color: #00af00\">64</span>, <span style=\"color: #00af00; text-decoration-color: #00af00\">40000</span>) │ <span style=\"color: #00af00; text-decoration-color: #00af00\">10,280,000</span> │ layer_normalizat… │\n",
       "└─────────────────────┴───────────────────┴────────────┴───────────────────┘\n",
       "</pre>\n"
      ]
     },
     "metadata": {},
     "output_type": "display_data"
    },
    {
     "data": {
      "text/plain": [
       "\u001B[1m Total params: \u001B[0m\u001B[38;5;34m22,101,312\u001B[0m (84.31 MB)\n"
      ],
      "text/html": [
       "<pre style=\"white-space:pre;overflow-x:auto;line-height:normal;font-family:Menlo,'DejaVu Sans Mono',consolas,'Courier New',monospace\"><span style=\"font-weight: bold\"> Total params: </span><span style=\"color: #00af00; text-decoration-color: #00af00\">22,101,312</span> (84.31 MB)\n",
       "</pre>\n"
      ]
     },
     "metadata": {},
     "output_type": "display_data"
    },
    {
     "data": {
      "text/plain": [
       "\u001B[1m Trainable params: \u001B[0m\u001B[38;5;34m22,101,312\u001B[0m (84.31 MB)\n"
      ],
      "text/html": [
       "<pre style=\"white-space:pre;overflow-x:auto;line-height:normal;font-family:Menlo,'DejaVu Sans Mono',consolas,'Courier New',monospace\"><span style=\"font-weight: bold\"> Trainable params: </span><span style=\"color: #00af00; text-decoration-color: #00af00\">22,101,312</span> (84.31 MB)\n",
       "</pre>\n"
      ]
     },
     "metadata": {},
     "output_type": "display_data"
    },
    {
     "data": {
      "text/plain": [
       "\u001B[1m Non-trainable params: \u001B[0m\u001B[38;5;34m0\u001B[0m (0.00 B)\n"
      ],
      "text/html": [
       "<pre style=\"white-space:pre;overflow-x:auto;line-height:normal;font-family:Menlo,'DejaVu Sans Mono',consolas,'Courier New',monospace\"><span style=\"font-weight: bold\"> Non-trainable params: </span><span style=\"color: #00af00; text-decoration-color: #00af00\">0</span> (0.00 B)\n",
       "</pre>\n"
      ]
     },
     "metadata": {},
     "output_type": "display_data"
    }
   ],
   "execution_count": 36
  },
  {
   "metadata": {},
   "cell_type": "markdown",
   "source": "#### Training the model",
   "id": "62ed52712b176671"
  },
  {
   "metadata": {
    "ExecuteTime": {
     "end_time": "2025-04-14T21:12:43.697247Z",
     "start_time": "2025-04-14T14:42:15.764278Z"
    }
   },
   "cell_type": "code",
   "source": [
    "history = model.fit(\n",
    "    train_inputs, train_targets,\n",
    "    validation_data=(val_inputs, val_targets),\n",
    "    batch_size=64,\n",
    "    epochs=20,\n",
    "    callbacks=[\n",
    "        keras.callbacks.EarlyStopping(patience=3, restore_best_weights=True),\n",
    "        keras.callbacks.ReduceLROnPlateau(factor=0.5, patience=1),\n",
    "        keras.callbacks.ModelCheckpoint('tarzan_best_model.keras', save_best_only=True)\n",
    "    ]\n",
    ")"
   ],
   "id": "e469e3be1aa35923",
   "outputs": [
    {
     "name": "stdout",
     "output_type": "stream",
     "text": [
      "Epoch 1/20\n",
      "\u001B[1m971/971\u001B[0m \u001B[32m━━━━━━━━━━━━━━━━━━━━\u001B[0m\u001B[37m\u001B[0m \u001B[1m1330s\u001B[0m 1s/step - accuracy: 0.0863 - loss: 7.7188 - val_accuracy: 0.2749 - val_loss: 4.5900 - learning_rate: 3.0000e-04\n",
      "Epoch 2/20\n",
      "\u001B[1m971/971\u001B[0m \u001B[32m━━━━━━━━━━━━━━━━━━━━\u001B[0m\u001B[37m\u001B[0m \u001B[1m1392s\u001B[0m 1s/step - accuracy: 0.4080 - loss: 3.5508 - val_accuracy: 0.8439 - val_loss: 0.8861 - learning_rate: 3.0000e-04\n",
      "Epoch 3/20\n",
      "\u001B[1m971/971\u001B[0m \u001B[32m━━━━━━━━━━━━━━━━━━━━\u001B[0m\u001B[37m\u001B[0m \u001B[1m1430s\u001B[0m 1s/step - accuracy: 0.8923 - loss: 0.6551 - val_accuracy: 0.9616 - val_loss: 0.2266 - learning_rate: 3.0000e-04\n",
      "Epoch 4/20\n",
      "\u001B[1m971/971\u001B[0m \u001B[32m━━━━━━━━━━━━━━━━━━━━\u001B[0m\u001B[37m\u001B[0m \u001B[1m1451s\u001B[0m 1s/step - accuracy: 0.9645 - loss: 0.2129 - val_accuracy: 0.9684 - val_loss: 0.1684 - learning_rate: 3.0000e-04\n",
      "Epoch 5/20\n",
      "\u001B[1m971/971\u001B[0m \u001B[32m━━━━━━━━━━━━━━━━━━━━\u001B[0m\u001B[37m\u001B[0m \u001B[1m1359s\u001B[0m 1s/step - accuracy: 0.9714 - loss: 0.1529 - val_accuracy: 0.9707 - val_loss: 0.1515 - learning_rate: 3.0000e-04\n",
      "Epoch 6/20\n",
      "\u001B[1m971/971\u001B[0m \u001B[32m━━━━━━━━━━━━━━━━━━━━\u001B[0m\u001B[37m\u001B[0m \u001B[1m1318s\u001B[0m 1s/step - accuracy: 0.9745 - loss: 0.1287 - val_accuracy: 0.9723 - val_loss: 0.1400 - learning_rate: 3.0000e-04\n",
      "Epoch 7/20\n",
      "\u001B[1m971/971\u001B[0m \u001B[32m━━━━━━━━━━━━━━━━━━━━\u001B[0m\u001B[37m\u001B[0m \u001B[1m1382s\u001B[0m 1s/step - accuracy: 0.9762 - loss: 0.1155 - val_accuracy: 0.9732 - val_loss: 0.1347 - learning_rate: 3.0000e-04\n",
      "Epoch 8/20\n",
      "\u001B[1m971/971\u001B[0m \u001B[32m━━━━━━━━━━━━━━━━━━━━\u001B[0m\u001B[37m\u001B[0m \u001B[1m1458s\u001B[0m 2s/step - accuracy: 0.9777 - loss: 0.1060 - val_accuracy: 0.9733 - val_loss: 0.1345 - learning_rate: 3.0000e-04\n",
      "Epoch 9/20\n",
      "\u001B[1m971/971\u001B[0m \u001B[32m━━━━━━━━━━━━━━━━━━━━\u001B[0m\u001B[37m\u001B[0m \u001B[1m1459s\u001B[0m 2s/step - accuracy: 0.9789 - loss: 0.0989 - val_accuracy: 0.9742 - val_loss: 0.1310 - learning_rate: 3.0000e-04\n",
      "Epoch 10/20\n",
      "\u001B[1m971/971\u001B[0m \u001B[32m━━━━━━━━━━━━━━━━━━━━\u001B[0m\u001B[37m\u001B[0m \u001B[1m1445s\u001B[0m 1s/step - accuracy: 0.9795 - loss: 0.0946 - val_accuracy: 0.9752 - val_loss: 0.1274 - learning_rate: 3.0000e-04\n",
      "Epoch 11/20\n",
      "\u001B[1m971/971\u001B[0m \u001B[32m━━━━━━━━━━━━━━━━━━━━\u001B[0m\u001B[37m\u001B[0m \u001B[1m1421s\u001B[0m 1s/step - accuracy: 0.9802 - loss: 0.0900 - val_accuracy: 0.9752 - val_loss: 0.1273 - learning_rate: 3.0000e-04\n",
      "Epoch 12/20\n",
      "\u001B[1m971/971\u001B[0m \u001B[32m━━━━━━━━━━━━━━━━━━━━\u001B[0m\u001B[37m\u001B[0m \u001B[1m1332s\u001B[0m 1s/step - accuracy: 0.9821 - loss: 0.0784 - val_accuracy: 0.9764 - val_loss: 0.1199 - learning_rate: 1.5000e-04\n",
      "Epoch 13/20\n",
      "\u001B[1m971/971\u001B[0m \u001B[32m━━━━━━━━━━━━━━━━━━━━\u001B[0m\u001B[37m\u001B[0m \u001B[1m1337s\u001B[0m 1s/step - accuracy: 0.9826 - loss: 0.0749 - val_accuracy: 0.9766 - val_loss: 0.1222 - learning_rate: 1.5000e-04\n",
      "Epoch 14/20\n",
      "\u001B[1m971/971\u001B[0m \u001B[32m━━━━━━━━━━━━━━━━━━━━\u001B[0m\u001B[37m\u001B[0m \u001B[1m1339s\u001B[0m 1s/step - accuracy: 0.9834 - loss: 0.0694 - val_accuracy: 0.9772 - val_loss: 0.1177 - learning_rate: 7.5000e-05\n",
      "Epoch 15/20\n",
      "\u001B[1m971/971\u001B[0m \u001B[32m━━━━━━━━━━━━━━━━━━━━\u001B[0m\u001B[37m\u001B[0m \u001B[1m1326s\u001B[0m 1s/step - accuracy: 0.9836 - loss: 0.0679 - val_accuracy: 0.9771 - val_loss: 0.1191 - learning_rate: 7.5000e-05\n",
      "Epoch 16/20\n",
      "\u001B[1m971/971\u001B[0m \u001B[32m━━━━━━━━━━━━━━━━━━━━\u001B[0m\u001B[37m\u001B[0m \u001B[1m1327s\u001B[0m 1s/step - accuracy: 0.9841 - loss: 0.0653 - val_accuracy: 0.9774 - val_loss: 0.1188 - learning_rate: 3.7500e-05\n",
      "Epoch 17/20\n",
      "\u001B[1m971/971\u001B[0m \u001B[32m━━━━━━━━━━━━━━━━━━━━\u001B[0m\u001B[37m\u001B[0m \u001B[1m1321s\u001B[0m 1s/step - accuracy: 0.9844 - loss: 0.0629 - val_accuracy: 0.9776 - val_loss: 0.1193 - learning_rate: 1.8750e-05\n"
     ]
    }
   ],
   "execution_count": 37
  },
  {
   "metadata": {},
   "cell_type": "markdown",
   "source": "#### Plotting training metrics",
   "id": "bc2a84cc95182cc0"
  },
  {
   "metadata": {
    "ExecuteTime": {
     "end_time": "2025-04-14T21:12:44.291982Z",
     "start_time": "2025-04-14T21:12:43.797065Z"
    }
   },
   "cell_type": "code",
   "source": [
    "import matplotlib.pyplot as plt\n",
    "\n",
    "plt.figure(figsize=(12, 5))\n",
    "plt.subplot(1, 2, 1)\n",
    "plt.plot(history.history['loss'], label='Training Loss')\n",
    "plt.plot(history.history['val_loss'], label='Validation Loss')\n",
    "plt.title('Model Loss')\n",
    "plt.xlabel('Epoch')\n",
    "plt.ylabel('Loss')\n",
    "plt.grid()\n",
    "plt.legend()\n",
    "\n",
    "plt.subplot(1, 2, 2)\n",
    "plt.plot(history.history['accuracy'], label='Training Accuracy')\n",
    "plt.plot(history.history['val_accuracy'], label='Validation Accuracy')\n",
    "plt.title('Model Accuracy')\n",
    "plt.xlabel('Epoch')\n",
    "plt.ylabel('Accuracy')\n",
    "plt.grid()\n",
    "plt.legend()\n",
    "\n",
    "plt.tight_layout()\n",
    "plt.show()"
   ],
   "id": "41fab850f7ea8cc9",
   "outputs": [
    {
     "data": {
      "text/plain": [
       "<Figure size 1200x500 with 2 Axes>"
      ],
      "image/png": "[encoded data removed]"
     },
     "metadata": {},
     "output_type": "display_data"
    }
   ],
   "execution_count": 38
  },
  {
   "metadata": {},
   "cell_type": "markdown",
   "source": "#### Generating text",
   "id": "1e563378f33ea41e"
  },
  {
   "metadata": {
    "ExecuteTime": {
     "end_time": "2025-04-15T05:46:37.568358Z",
     "start_time": "2025-04-15T05:46:37.535554Z"
    }
   },
   "cell_type": "code",
   "source": [
    "def generate_text(model, sp, prompt, num_tokens=100, temperature=1.0):\n",
    "    \"\"\"Generate text based on a prompt with proper lowercase handling.\"\"\"\n",
    "    # Convert prompt to lowercase to match training data\n",
    "    lowercase_prompt = prompt#.lower()\n",
    "\n",
    "    # Encode the prompt\n",
    "    input_ids = sp.encode_as_ids(lowercase_prompt)\n",
    "\n",
    "    # Rest of your generation code stays the same...\n",
    "    if len(input_ids) < seq_length:\n",
    "        padding_length = seq_length - len(input_ids)\n",
    "        input_ids = [0] * padding_length + input_ids\n",
    "    else:\n",
    "        padding_length = 0\n",
    "        input_ids = input_ids[-seq_length:]\n",
    "\n",
    "    # Generated tokens\n",
    "    generated_ids = list(input_ids[padding_length:])\n",
    "\n",
    "    # Generate text token by token\n",
    "    for _ in range(num_tokens):\n",
    "        x = np.array([input_ids])\n",
    "        predictions = model.predict(x, verbose=0)[0]\n",
    "        logits = predictions[-1]\n",
    "        logits = logits / temperature\n",
    "        exp_logits = np.exp(logits - np.max(logits))\n",
    "        probs = exp_logits / np.sum(exp_logits)\n",
    "        next_token = np.random.choice(len(probs), p=probs)\n",
    "        generated_ids.append(next_token)\n",
    "        input_ids = input_ids[1:] + [next_token]\n",
    "\n",
    "    # Decode the generated sequence\n",
    "    generated_text = sp.decode(generated_ids)\n",
    "\n",
    "    return generated_text"
   ],
   "id": "dba8f5c8bf9a2b0b",
   "outputs": [],
   "execution_count": 40
  },
  {
   "metadata": {
    "ExecuteTime": {
     "end_time": "2025-04-15T05:49:53.404523Z",
     "start_time": "2025-04-15T05:49:37.538979Z"
    }
   },
   "cell_type": "code",
   "source": [
    "prompts = [\n",
    "    \"Viidakon kuningas Tarzan\",\n",
    "    \"Metsän syvyyksistä\",\n",
    "    \"Viidakon kutsu\",\n",
    "]\n",
    "\n",
    "for prompt in prompts:\n",
    "    print(f\"\\nPrompt: {prompt}\")\n",
    "    generated = generate_text(model, sp, prompt)\n",
    "    print(generated)"
   ],
   "id": "fd8abd8610f9389",
   "outputs": [
    {
     "name": "stdout",
     "output_type": "stream",
     "text": [
      "\n",
      "Prompt: Viidakon kuningas Tarzan\n",
      "Viidakon kuningas Tarzan välimatkaa aina samana. Hän ei yrittänyt selittää pitemmältä, sillä hänestä tuntui aina, että naisen täytyi inhoten katsella sellaista, joka vielä oli niin lähellä eläintä. Yhdessä he jatkoivat matkaansa. Aurinko oli tunti sitten noussut, kun he jälleen saapuivat erämaahan vuorten takana. Pienen puron varrelta he löysivät tytön hevoset syömästä. Ne olivat kotimatkallaan tulleet sinne asti ja pysähtyneet syömään ruohoa, kun niiden pelonaihe ei enää ollut saapuvilla. Vähällä vaivalla Tarzan ja tyttö ottivat ne kiinni ja nousten niiden selkään ratsastivat ulos erämaahan sheikki Kadur ben Sadenin duarille päin. He eivät\n",
      "\n",
      "Prompt: Metsän syvyyksistä\n",
      "Metsän syvyyksistä. Se ei näkynyt olevan yhtä rehellistä jokaista kohtaan. Jotta kolme meistä jäisi henkiin, täytyy yhden joukostamme kuolla ehkä muutamaa tuntia aikaisemmin kuin muutoin.\" Sitten hän alkoi valmistella kuoleman arvontaa, Jane Porterin istuessa silmät avoinna ja kauhuissaan ajatellen tapausta, jonka todistajaksi joutuisi. Herra Thuran levitti takkinsa veneen pohjalle ja valitsi sitten rahakourallisesta kuusi frangin kappaletta. Molemmat toiset kumartuivat lähelle häntä, kun hän tarkasti niitä. Vihdoin hän ojensi ne kaikki Claytonille. \"Katselkaa niitä huolellisesti\", sanoi hän. \"Vanhin vuosiluku on 1875, ja senvuotisia on vain yksi.\"\n",
      "\n",
      "Prompt: Viidakon kutsu\n",
      "Viidakon kutsu käsitti professorin koko pienen perheen, ennenkuin professori Porter seurueineen heitettiin rannikolle aivan hänen pikku majansa kynnykselle. Hän pelasti heidät kaikennäköisten kauheiden elukkain kynsistä ja suoritti mitä ihmeellisimpiä urotöitä. Kaiken kukkuraksi hän rakastui Janeen ja Jane häneen, vaikkei tyttö sitä koskaan oikein varmasti tiennyt, ennenkuin oli lupautunut loordi Greystokelle.\" \"Perin merkillistä\", jupisi Tarzan takoen aivojaan löytääkseen jonkun verukkeen, millä kääntäisi puheen toisaalle. Hän oli mielissään kuullessaan Hazel Strongin juttelevan Janesta, mutta kun keskustelu kääntyi häneen itseensä, tunsi hän kiusaantumista ja hämmennystä. Mutta hän sai pian hengähdysaikaa, sillä\n"
     ]
    }
   ],
   "execution_count": 41
  },
  {
   "metadata": {},
   "cell_type": "markdown",
   "source": [
    "#### Uuden session aloitus\n",
    "\n",
    "Jos aloitat uuden session, lataa seuraavat tiedostot tähän projektikansioon:\n",
    "- tarzan_best_model.keras (koulutettu malli)\n",
    "- tarzan_sp.model (tokenisaattori malli)\n",
    "\n",
    "Varmista myös, että **`generate_text`**-funktio on suoritettu aiemmin."
   ],
   "id": "5f8699a254e6834f"
  },
  {
   "metadata": {},
   "cell_type": "code",
   "outputs": [],
   "execution_count": null,
   "source": [
    "# Uncomment these lines to load a previously saved model\n",
    "\"\"\"\n",
    "# Load saved model\n",
    "model = keras.models.load_model('tarzan_best_model.keras')\n",
    "\n",
    "# Load SentencePiece tokenizer\n",
    "sp = spm.SentencePieceProcessor()\n",
    "sp.load('tarzan_sp.model')\n",
    "\n",
    "# Make sure the generate_text function is defined\n",
    "\n",
    "# Test generation\n",
    "prompt = \"Tarzan ja apina\"\n",
    "generated = generate_text(model, sp, prompt, num_tokens=150, temperature=1.0)\n",
    "print(generated)\n",
    "\"\"\""
   ],
   "id": "327d42450acb1c26"
  }
 ],
 "metadata": {
  "kernelspec": {
   "display_name": "Python 3",
   "language": "python",
   "name": "python3"
  },
  "language_info": {
   "codemirror_mode": {
    "name": "ipython",
    "version": 2
   },
   "file_extension": ".py",
   "mimetype": "text/x-python",
   "name": "python",
   "nbconvert_exporter": "python",
   "pygments_lexer": "ipython2",
   "version": "2.7.6"
  }
 },
 "nbformat": 4,
 "nbformat_minor": 5
}
