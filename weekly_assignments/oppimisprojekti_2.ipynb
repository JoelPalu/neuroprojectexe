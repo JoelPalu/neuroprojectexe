{
 "cells": [
  {
   "cell_type": "markdown",
   "metadata": {},
   "source": [
    "## Tehtävä: Oppimisprojekti 2: Kuvantunnistus omilla kuvilla\n",
    "\n",
    "Tämän projektin tavoitteena on suunnitella ja toteuttaa kuvantunnistusjärjestelmä käyttäen itse otettuja kuvia. Projekti toteutetaan vaiheittain hyödyntäen eri konvoluutioneuroverkkomenetelmiä yksinkertaisesta edistyneempään."
   ]
  },
  {
   "cell_type": "markdown",
   "metadata": {},
   "source": [
    "#### Datankäsittely"
   ]
  },
  {
   "cell_type": "code",
   "execution_count": 5,
   "metadata": {},
   "outputs": [
    {
     "name": "stdout",
     "output_type": "stream",
     "text": [
      "Found 513 files belonging to 4 classes.\n",
      "Batch of images shape: (32, 100, 100, 3)\n",
      "Batch of images shape: (32, 100, 100, 3)\n",
      "Batch of images shape: (32, 100, 100, 3)\n",
      "Batch of images shape: (32, 100, 100, 3)\n",
      "Batch of images shape: (32, 100, 100, 3)\n",
      "Batch of images shape: (32, 100, 100, 3)\n",
      "Batch of images shape: (32, 100, 100, 3)\n",
      "Batch of images shape: (32, 100, 100, 3)\n",
      "Batch of images shape: (32, 100, 100, 3)\n",
      "Batch of images shape: (32, 100, 100, 3)\n",
      "Batch of images shape: (32, 100, 100, 3)\n",
      "Batch of images shape: (32, 100, 100, 3)\n",
      "Batch of images shape: (32, 100, 100, 3)\n",
      "Batch of images shape: (32, 100, 100, 3)\n",
      "Batch of images shape: (32, 100, 100, 3)\n",
      "Batch of images shape: (32, 100, 100, 3)\n",
      "Batch of images shape: (1, 100, 100, 3)\n"
     ]
    }
   ],
   "source": [
    "import os\n",
    "from PIL import Image\n",
    "from tensorflow.keras.preprocessing import image_dataset_from_directory\n",
    "\n",
    "image_folder = '../week2_photodata'\n",
    "\n",
    "data = image_dataset_from_directory(\n",
    "    image_folder,\n",
    "    labels='inferred',\n",
    "    label_mode='categorical',\n",
    "    image_size=(100,100)\n",
    ")\n",
    "   \n",
    "for images, labels in data:\n",
    "    print(f\"Batch of images shape: {images.shape}\")"
   ]
  }
 ],
 "metadata": {
  "kernelspec": {
   "display_name": "Tensor",
   "language": "python",
   "name": "python3"
  },
  "language_info": {
   "codemirror_mode": {
    "name": "ipython",
    "version": 3
   },
   "file_extension": ".py",
   "mimetype": "text/x-python",
   "name": "python",
   "nbconvert_exporter": "python",
   "pygments_lexer": "ipython3",
   "version": "3.10.13"
  }
 },
 "nbformat": 4,
 "nbformat_minor": 2
}
