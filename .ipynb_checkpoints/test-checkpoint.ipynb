{
 "cells": [
  {
   "cell_type": "code",
   "id": "initial_id",
   "metadata": {
    "collapsed": true,
    "ExecuteTime": {
     "end_time": "2025-03-21T10:52:27.102965Z",
     "start_time": "2025-03-21T10:52:24.931098Z"
    }
   },
   "source": [
    "import torch\n",
    "import matplotlib.pyplot as plt\n",
    "import numpy as np\n",
    "\n",
    "\n",
    "from torchvision import datasets\n",
    "from torchvision.transforms import ToTensor"
   ],
   "outputs": [
    {
     "ename": "ModuleNotFoundError",
     "evalue": "No module named 'torch.hub'",
     "output_type": "error",
     "traceback": [
      "\u001B[1;31m---------------------------------------------------------------------------\u001B[0m",
      "\u001B[1;31mModuleNotFoundError\u001B[0m                       Traceback (most recent call last)",
      "Cell \u001B[1;32mIn[1], line 6\u001B[0m\n\u001B[0;32m      2\u001B[0m \u001B[38;5;28;01mimport\u001B[39;00m \u001B[38;5;21;01mmatplotlib\u001B[39;00m\u001B[38;5;21;01m.\u001B[39;00m\u001B[38;5;21;01mpyplot\u001B[39;00m \u001B[38;5;28;01mas\u001B[39;00m \u001B[38;5;21;01mplt\u001B[39;00m\n\u001B[0;32m      3\u001B[0m \u001B[38;5;28;01mimport\u001B[39;00m \u001B[38;5;21;01mnumpy\u001B[39;00m \u001B[38;5;28;01mas\u001B[39;00m \u001B[38;5;21;01mnp\u001B[39;00m\n\u001B[1;32m----> 6\u001B[0m \u001B[38;5;28;01mfrom\u001B[39;00m \u001B[38;5;21;01mtorchvision\u001B[39;00m \u001B[38;5;28;01mimport\u001B[39;00m datasets\n\u001B[0;32m      7\u001B[0m \u001B[38;5;28;01mfrom\u001B[39;00m \u001B[38;5;21;01mtorchvision\u001B[39;00m\u001B[38;5;21;01m.\u001B[39;00m\u001B[38;5;21;01mtransforms\u001B[39;00m \u001B[38;5;28;01mimport\u001B[39;00m ToTensor\n",
      "File \u001B[1;32m~\\anaconda3\\envs\\torch\\Lib\\site-packages\\torchvision\\__init__.py:9\u001B[0m\n\u001B[0;32m      5\u001B[0m \u001B[38;5;28;01mimport\u001B[39;00m \u001B[38;5;21;01mtorch\u001B[39;00m\n\u001B[0;32m      7\u001B[0m \u001B[38;5;66;03m# Don't re-order these, we need to load the _C extension (done when importing\u001B[39;00m\n\u001B[0;32m      8\u001B[0m \u001B[38;5;66;03m# .extensions) before entering _meta_registrations.\u001B[39;00m\n\u001B[1;32m----> 9\u001B[0m \u001B[38;5;28;01mfrom\u001B[39;00m \u001B[38;5;21;01m.\u001B[39;00m\u001B[38;5;21;01mextension\u001B[39;00m \u001B[38;5;28;01mimport\u001B[39;00m _HAS_OPS  \u001B[38;5;66;03m# usort:skip\u001B[39;00m\n\u001B[0;32m     10\u001B[0m \u001B[38;5;28;01mfrom\u001B[39;00m \u001B[38;5;21;01mtorchvision\u001B[39;00m \u001B[38;5;28;01mimport\u001B[39;00m _meta_registrations, datasets, io, models, ops, transforms, utils  \u001B[38;5;66;03m# usort:skip\u001B[39;00m\n\u001B[0;32m     12\u001B[0m \u001B[38;5;28;01mtry\u001B[39;00m:\n",
      "File \u001B[1;32m~\\anaconda3\\envs\\torch\\Lib\\site-packages\\torchvision\\extension.py:6\u001B[0m\n\u001B[0;32m      2\u001B[0m \u001B[38;5;28;01mimport\u001B[39;00m \u001B[38;5;21;01msys\u001B[39;00m\n\u001B[0;32m      4\u001B[0m \u001B[38;5;28;01mimport\u001B[39;00m \u001B[38;5;21;01mtorch\u001B[39;00m\n\u001B[1;32m----> 6\u001B[0m \u001B[38;5;28;01mfrom\u001B[39;00m \u001B[38;5;21;01m.\u001B[39;00m\u001B[38;5;21;01m_internally_replaced_utils\u001B[39;00m \u001B[38;5;28;01mimport\u001B[39;00m _get_extension_path\n\u001B[0;32m      9\u001B[0m _HAS_OPS \u001B[38;5;241m=\u001B[39m \u001B[38;5;28;01mFalse\u001B[39;00m\n\u001B[0;32m     12\u001B[0m \u001B[38;5;28;01mdef\u001B[39;00m \u001B[38;5;21m_has_ops\u001B[39m():\n",
      "File \u001B[1;32m~\\anaconda3\\envs\\torch\\Lib\\site-packages\\torchvision\\_internally_replaced_utils.py:4\u001B[0m\n\u001B[0;32m      1\u001B[0m \u001B[38;5;28;01mimport\u001B[39;00m \u001B[38;5;21;01mimportlib\u001B[39;00m\u001B[38;5;21;01m.\u001B[39;00m\u001B[38;5;21;01mmachinery\u001B[39;00m\n\u001B[0;32m      2\u001B[0m \u001B[38;5;28;01mimport\u001B[39;00m \u001B[38;5;21;01mos\u001B[39;00m\n\u001B[1;32m----> 4\u001B[0m \u001B[38;5;28;01mfrom\u001B[39;00m \u001B[38;5;21;01mtorch\u001B[39;00m\u001B[38;5;21;01m.\u001B[39;00m\u001B[38;5;21;01mhub\u001B[39;00m \u001B[38;5;28;01mimport\u001B[39;00m _get_torch_home\n\u001B[0;32m      7\u001B[0m _HOME \u001B[38;5;241m=\u001B[39m os\u001B[38;5;241m.\u001B[39mpath\u001B[38;5;241m.\u001B[39mjoin(_get_torch_home(), \u001B[38;5;124m\"\u001B[39m\u001B[38;5;124mdatasets\u001B[39m\u001B[38;5;124m\"\u001B[39m, \u001B[38;5;124m\"\u001B[39m\u001B[38;5;124mvision\u001B[39m\u001B[38;5;124m\"\u001B[39m)\n\u001B[0;32m      8\u001B[0m _USE_SHARDED_DATASETS \u001B[38;5;241m=\u001B[39m \u001B[38;5;28;01mFalse\u001B[39;00m\n",
      "\u001B[1;31mModuleNotFoundError\u001B[0m: No module named 'torch.hub'"
     ]
    }
   ],
   "execution_count": 1
  },
  {
   "metadata": {
    "ExecuteTime": {
     "end_time": "2025-03-21T10:52:33.288206Z",
     "start_time": "2025-03-21T10:52:33.281173Z"
    }
   },
   "cell_type": "code",
   "source": [
    "def relu(x, diff = False):\n",
    "    if not diff:\n",
    "        y = torch.maximum(x, torch.tensor(0))\n",
    "    else:\n",
    "        y = (x > 0) * 1\n",
    "    return y\n",
    "\n",
    "def softmax(x):\n",
    "    y = x.exp()\n",
    "    return y / y.sum(dim=1, keepdims=True)"
   ],
   "id": "1389678822071a0a",
   "outputs": [],
   "execution_count": 2
  },
  {
   "metadata": {},
   "cell_type": "code",
   "outputs": [],
   "execution_count": null,
   "source": "'Load images'\n",
   "id": "76c73232a39529a7"
  },
  {
   "metadata": {
    "ExecuteTime": {
     "end_time": "2025-03-21T10:52:36.097746Z",
     "start_time": "2025-03-21T10:52:35.989146Z"
    }
   },
   "cell_type": "code",
   "source": [
    "train_data = datasets.MNIST(\n",
    "    root = 'mnist_data',\n",
    "    train = True,                         \n",
    "    transform = ToTensor(), \n",
    "    download = True,            \n",
    ")\n",
    "test_data = datasets.MNIST(\n",
    "    root = 'mnist_data', \n",
    "    train = False, \n",
    "    transform = ToTensor()\n",
    ")\n",
    "\n",
    "X_train = train_data.data.view((-1, 28*28)).float() / 255.0\n",
    "X_test = test_data.data.view((-1, 28*28)).float() / 255.0\n",
    "\n",
    "y_train = train_data.targets\n",
    "y_test = test_data.targets\n",
    "\n",
    "# Convert the target values into a \"one hot\" array,\n",
    "# for example: 4 -> [0, 0, 0, 0, 1, 0, 0, 0, 0, 0]\n",
    "Y_train = torch.zeros((60000, 10))\n",
    "Y_test = torch.zeros((10000, 10))\n",
    "for k in range(0, 60000):\n",
    "    Y_train[k, y_train[k]] = 1\n",
    "for k in range(0, 10000):\n",
    "    Y_test[k, y_test[k]] = 1"
   ],
   "id": "fa2acedf25cff5d9",
   "outputs": [
    {
     "ename": "NameError",
     "evalue": "name 'datasets' is not defined",
     "output_type": "error",
     "traceback": [
      "\u001B[1;31m---------------------------------------------------------------------------\u001B[0m",
      "\u001B[1;31mNameError\u001B[0m                                 Traceback (most recent call last)",
      "Cell \u001B[1;32mIn[3], line 1\u001B[0m\n\u001B[1;32m----> 1\u001B[0m train_data \u001B[38;5;241m=\u001B[39m datasets\u001B[38;5;241m.\u001B[39mMNIST(\n\u001B[0;32m      2\u001B[0m     root \u001B[38;5;241m=\u001B[39m \u001B[38;5;124m'\u001B[39m\u001B[38;5;124mmnist_data\u001B[39m\u001B[38;5;124m'\u001B[39m,\n\u001B[0;32m      3\u001B[0m     train \u001B[38;5;241m=\u001B[39m \u001B[38;5;28;01mTrue\u001B[39;00m,                         \n\u001B[0;32m      4\u001B[0m     transform \u001B[38;5;241m=\u001B[39m ToTensor(), \n\u001B[0;32m      5\u001B[0m     download \u001B[38;5;241m=\u001B[39m \u001B[38;5;28;01mTrue\u001B[39;00m,            \n\u001B[0;32m      6\u001B[0m )\n\u001B[0;32m      7\u001B[0m test_data \u001B[38;5;241m=\u001B[39m datasets\u001B[38;5;241m.\u001B[39mMNIST(\n\u001B[0;32m      8\u001B[0m     root \u001B[38;5;241m=\u001B[39m \u001B[38;5;124m'\u001B[39m\u001B[38;5;124mmnist_data\u001B[39m\u001B[38;5;124m'\u001B[39m, \n\u001B[0;32m      9\u001B[0m     train \u001B[38;5;241m=\u001B[39m \u001B[38;5;28;01mFalse\u001B[39;00m, \n\u001B[0;32m     10\u001B[0m     transform \u001B[38;5;241m=\u001B[39m ToTensor()\n\u001B[0;32m     11\u001B[0m )\n\u001B[0;32m     13\u001B[0m X_train \u001B[38;5;241m=\u001B[39m train_data\u001B[38;5;241m.\u001B[39mdata\u001B[38;5;241m.\u001B[39mview((\u001B[38;5;241m-\u001B[39m\u001B[38;5;241m1\u001B[39m, \u001B[38;5;241m28\u001B[39m\u001B[38;5;241m*\u001B[39m\u001B[38;5;241m28\u001B[39m))\u001B[38;5;241m.\u001B[39mfloat() \u001B[38;5;241m/\u001B[39m \u001B[38;5;241m255.0\u001B[39m\n",
      "\u001B[1;31mNameError\u001B[0m: name 'datasets' is not defined"
     ]
    }
   ],
   "execution_count": 3
  },
  {
   "metadata": {
    "ExecuteTime": {
     "end_time": "2025-03-21T10:47:32.213988300Z",
     "start_time": "2025-03-21T09:01:32.765407Z"
    }
   },
   "cell_type": "code",
   "source": [
    "# Initialize the coefficients\n",
    "g = torch.Generator().manual_seed(12345)\n",
    "W1 = torch.rand((784, 256), generator=g) * 0.01\n",
    "b1 = torch.zeros((1, 256))\n",
    "W2 = torch.rand((256, 10), generator=g) * 0.01\n",
    "b2 = torch.zeros((1, 10))\n",
    "\n",
    "parameters = [W1, b1, W2, b2]\n",
    "for p in parameters:\n",
    "    p.requires_grad = True"
   ],
   "id": "9cb089b7706f696b",
   "outputs": [],
   "execution_count": 3
  },
  {
   "metadata": {
    "ExecuteTime": {
     "end_time": "2025-03-21T10:47:32.257128Z",
     "start_time": "2025-03-21T09:01:44.388565Z"
    }
   },
   "cell_type": "code",
   "source": "   ' train the network '",
   "id": "a44e4b048b38097e",
   "outputs": [
    {
     "ename": "SyntaxError",
     "evalue": "invalid syntax (971204683.py, line 1)",
     "output_type": "error",
     "traceback": [
      "\u001B[1;36m  Cell \u001B[1;32mIn[4], line 1\u001B[1;36m\u001B[0m\n\u001B[1;33m    train the network\u001B[0m\n\u001B[1;37m          ^\u001B[0m\n\u001B[1;31mSyntaxError\u001B[0m\u001B[1;31m:\u001B[0m invalid syntax\n"
     ]
    }
   ],
   "execution_count": 4
  },
  {
   "metadata": {
    "ExecuteTime": {
     "end_time": "2025-03-21T10:47:32.260126900Z",
     "start_time": "2025-03-21T09:01:55.437350Z"
    }
   },
   "cell_type": "code",
   "source": [
    "lr = 0.01  # Learning rate\n",
    "m = 64  # Batch size"
   ],
   "id": "e3bd4b1e7a35dae0",
   "outputs": [],
   "execution_count": 5
  },
  {
   "metadata": {
    "ExecuteTime": {
     "end_time": "2025-03-21T10:47:32.261128500Z",
     "start_time": "2025-03-21T09:02:01.843203Z"
    }
   },
   "cell_type": "code",
   "source": [
    "# Training\n",
    "for epoch in range(200000): \n",
    "\n",
    "    # Create a batch\n",
    "    ix = torch.randint(0, 60000, (m,), generator=g)\n",
    "    X = X_train[ix, :]\n",
    "    Y = Y_train[ix, :]\n",
    "        \n",
    "    # Forward pass\n",
    "    Z1 = X @ W1 + b1\n",
    "    A1 = relu(Z1)\n",
    "    Z2 = A1 @ W2 + b2\n",
    "    A2 = softmax(Z2)\n",
    "\n",
    "    loss = -(Y * torch.log(A2)).sum() / m\n",
    "\n",
    "    # Backpropagation\n",
    "    for p in parameters:\n",
    "        p.grad = None\n",
    "    loss.backward()\n",
    "\n",
    "    for p in parameters:\n",
    "        p.data += - lr * p.grad\n",
    "\n",
    "    if epoch % 10000 == 0:\n",
    "        print(f\"epoch = {epoch:6},  loss = {loss:.4}\")"
   ],
   "id": "dbbcda500794006c",
   "outputs": [
    {
     "ename": "NameError",
     "evalue": "name 'X_train' is not defined",
     "output_type": "error",
     "traceback": [
      "\u001B[1;31m---------------------------------------------------------------------------\u001B[0m",
      "\u001B[1;31mNameError\u001B[0m                                 Traceback (most recent call last)",
      "Cell \u001B[1;32mIn[6], line 6\u001B[0m\n\u001B[0;32m      2\u001B[0m \u001B[38;5;28;01mfor\u001B[39;00m epoch \u001B[38;5;129;01min\u001B[39;00m \u001B[38;5;28mrange\u001B[39m(\u001B[38;5;241m200000\u001B[39m): \n\u001B[0;32m      3\u001B[0m \n\u001B[0;32m      4\u001B[0m     \u001B[38;5;66;03m# Create a batch\u001B[39;00m\n\u001B[0;32m      5\u001B[0m     ix \u001B[38;5;241m=\u001B[39m torch\u001B[38;5;241m.\u001B[39mrandint(\u001B[38;5;241m0\u001B[39m, \u001B[38;5;241m60000\u001B[39m, (m,), generator\u001B[38;5;241m=\u001B[39mg)\n\u001B[1;32m----> 6\u001B[0m     X \u001B[38;5;241m=\u001B[39m X_train[ix, :]\n\u001B[0;32m      7\u001B[0m     Y \u001B[38;5;241m=\u001B[39m Y_train[ix, :]\n\u001B[0;32m      9\u001B[0m     \u001B[38;5;66;03m# Forward pass\u001B[39;00m\n",
      "\u001B[1;31mNameError\u001B[0m: name 'X_train' is not defined"
     ]
    }
   ],
   "execution_count": 6
  },
  {
   "metadata": {
    "ExecuteTime": {
     "end_time": "2025-03-21T10:47:32.263126200Z",
     "start_time": "2025-03-21T09:02:06.622112Z"
    }
   },
   "cell_type": "code",
   "source": "'caltulate pred'",
   "id": "875c1d017a8fa507",
   "outputs": [
    {
     "ename": "SyntaxError",
     "evalue": "invalid syntax (2034795073.py, line 1)",
     "output_type": "error",
     "traceback": [
      "\u001B[1;36m  Cell \u001B[1;32mIn[7], line 1\u001B[1;36m\u001B[0m\n\u001B[1;33m    caltulate pred\u001B[0m\n\u001B[1;37m              ^\u001B[0m\n\u001B[1;31mSyntaxError\u001B[0m\u001B[1;31m:\u001B[0m invalid syntax\n"
     ]
    }
   ],
   "execution_count": 7
  },
  {
   "metadata": {
    "ExecuteTime": {
     "end_time": "2025-03-21T10:47:32.265128100Z",
     "start_time": "2025-03-21T09:02:15.069855Z"
    }
   },
   "cell_type": "code",
   "source": [
    "start = 500\n",
    "for k in range(5):\n",
    "    X = X_test[start+k]\n",
    "    Z1 = X @ W1 + b1\n",
    "    A1 = relu(Z1)\n",
    "    Z2 = A1 @ W2 + b2\n",
    "    A2 = softmax(Z2)\n",
    "\n",
    "    plt.figure(figsize=(10, 4))\n",
    "    plt.subplot(1,2,1)\n",
    "    plt.imshow(X.view(28, 28), cmap='gray')\n",
    "    ind = np.arange(0, 10)\n",
    "    plt.subplot(1,2,2)\n",
    "    plt.bar(ind, A2.detach().numpy().flatten())\n",
    "    plt.xticks(range(10))"
   ],
   "id": "4644732ce4df5bc",
   "outputs": [
    {
     "ename": "NameError",
     "evalue": "name 'X_test' is not defined",
     "output_type": "error",
     "traceback": [
      "\u001B[1;31m---------------------------------------------------------------------------\u001B[0m",
      "\u001B[1;31mNameError\u001B[0m                                 Traceback (most recent call last)",
      "Cell \u001B[1;32mIn[8], line 3\u001B[0m\n\u001B[0;32m      1\u001B[0m start \u001B[38;5;241m=\u001B[39m \u001B[38;5;241m500\u001B[39m\n\u001B[0;32m      2\u001B[0m \u001B[38;5;28;01mfor\u001B[39;00m k \u001B[38;5;129;01min\u001B[39;00m \u001B[38;5;28mrange\u001B[39m(\u001B[38;5;241m5\u001B[39m):\n\u001B[1;32m----> 3\u001B[0m     X \u001B[38;5;241m=\u001B[39m X_test[start\u001B[38;5;241m+\u001B[39mk]\n\u001B[0;32m      4\u001B[0m     Z1 \u001B[38;5;241m=\u001B[39m X \u001B[38;5;241m@\u001B[39m W1 \u001B[38;5;241m+\u001B[39m b1\n\u001B[0;32m      5\u001B[0m     A1 \u001B[38;5;241m=\u001B[39m relu(Z1)\n",
      "\u001B[1;31mNameError\u001B[0m: name 'X_test' is not defined"
     ]
    }
   ],
   "execution_count": 8
  },
  {
   "metadata": {
    "ExecuteTime": {
     "end_time": "2025-03-21T10:47:32.266128300Z",
     "start_time": "2025-03-21T09:02:26.339487Z"
    }
   },
   "cell_type": "code",
   "source": "'cal accuracy'",
   "id": "20fe21491b6a45ed",
   "outputs": [
    {
     "ename": "SyntaxError",
     "evalue": "invalid syntax (3568020733.py, line 1)",
     "output_type": "error",
     "traceback": [
      "\u001B[1;36m  Cell \u001B[1;32mIn[9], line 1\u001B[1;36m\u001B[0m\n\u001B[1;33m    cal accuracy\u001B[0m\n\u001B[1;37m        ^\u001B[0m\n\u001B[1;31mSyntaxError\u001B[0m\u001B[1;31m:\u001B[0m invalid syntax\n"
     ]
    }
   ],
   "execution_count": 9
  },
  {
   "metadata": {},
   "cell_type": "code",
   "outputs": [],
   "execution_count": null,
   "source": [
    "X = X_test\n",
    "Z1 = X @ W1 + b1\n",
    "A1 = relu(Z1)\n",
    "Z2 = A1 @ W2 + b2\n",
    "A2 = softmax(Z2)\n",
    "Y_hat = A2.argmax(dim=1)\n",
    "print(f\"Accuracy = {(Y_hat == y_test).sum()/len(y_test):.4}\")"
   ],
   "id": "ad2e84b4dcc9dc74"
  }
 ],
 "metadata": {
  "kernelspec": {
   "display_name": "Python 3",
   "language": "python",
   "name": "python3"
  },
  "language_info": {
   "codemirror_mode": {
    "name": "ipython",
    "version": 2
   },
   "file_extension": ".py",
   "mimetype": "text/x-python",
   "name": "python",
   "nbconvert_exporter": "python",
   "pygments_lexer": "ipython2",
   "version": "2.7.6"
  }
 },
 "nbformat": 4,
 "nbformat_minor": 5
}
